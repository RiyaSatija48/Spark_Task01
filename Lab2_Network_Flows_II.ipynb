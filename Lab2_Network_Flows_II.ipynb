{
  "cells": [
    {
      "cell_type": "markdown",
      "metadata": {
        "id": "4QjUSElB8FJa"
      },
      "source": [
        "# MP305 Network Flow Models II"
      ]
    },
    {
      "cell_type": "code",
      "execution_count": 1,
      "metadata": {
        "id": "LDaofssL8FJb"
      },
      "outputs": [],
      "source": [
        "from IPython.display import display, Math, Latex"
      ]
    },
    {
      "cell_type": "markdown",
      "metadata": {
        "id": "5ZjY2D4j8FJc"
      },
      "source": [
        "## Overview\n",
        "\n",
        "This file contains a number of Python functions for finding the maximal flow through a network $G$ subject to minimal cost using the Ford Fulkerson Algorithm.\n",
        "\n",
        "The network graph $G$ is stored in a set `G` of two element tuples `(i,j)` describing the directed arcs $(i,j)$ of $G$.\n",
        "\n",
        "It is assumed that node number $1$ is the source and the greatest node `Nsink` is the sink.  \n",
        "Thus `G={(1,2),(2,3),(1,3)}`  describes a network with 3 nodes where node 1 is the source and node 3 is the sink.\n",
        "\n",
        "The capacity $c(i,j)$, flow $\\phi(i,j)$ and cost $l(i,j)$ of the arc $(i,j)$ of $G$ are stored in `c[i][j]`, `phi[i][j]` and `l[i][j]`.\n",
        "Here `c`, `phi` and `l` are Python lists.\n",
        "\n",
        "## Python Functions\n",
        "### The `Initialise(G)` function\n",
        "Having defined the network $G$, initialise `c`, `phi` and `l` values to zero via the `Initialise` function before defining their values in any particular example.  The global variable `Nsink`,  the sink node of $G$, is also found by the `Initialise` function .\n",
        "\n",
        "### The main `Iterate(G)`function\n",
        "This implements the full algorithm to find the maximum flow with minimal cost."
      ]
    },
    {
      "cell_type": "code",
      "execution_count": 1,
      "metadata": {
        "id": "b3c1vnnz8FJc"
      },
      "outputs": [],
      "source": []
    },
    {
      "cell_type": "markdown",
      "metadata": {
        "id": "MslIa3r08FJc"
      },
      "source": [
        "## The `Iterate(G)` function is based on a number of other Python functions:\n",
        "\n",
        "### `Flows(G)`\n",
        "This checks for conservation of flow and prints out all of the current flows for G and the total cost of this flow.\n",
        "\n",
        "###  `Links(G)`\n",
        "This finds all arcs `(i,j1)`, ` (i,j2)`,  ... *out* of node `i` of `G`.  The nodes `j1,j2,..` are stored in a global list of sets `Out`.\n",
        "\n",
        "###  `SourceSink(G)`\n",
        "This finds all of the paths from source to sink in any network `G` and results in a global set `SinkPaths` of such paths.\n",
        "\n",
        "###  `IncremNet(G)`\n",
        "This finds the Incremental Network `Gp` associated with the current flow of the network `G`.\n",
        "\n",
        "###  `Newflows(G)`\n",
        "This updates the flows `phi` of `G` according to the best chain found through `Gp`. If the maximal flow is reached, then this is indicated and the maximum flow value is outputed. Otherwise, the output is: the change in flow (`eps`), the cost of the best chain, and the best chain.\n",
        "\n",
        "###  `Iterate(G)`\n",
        "Implements the full algorithm to find the maximum flow with minimal cost.\n",
        "The output is as follows:\n",
        "\n",
        "(1) The incremental network `Gp`.\n",
        "\n",
        "(2) The paths through `Gp` from source to sink.\n",
        "\n",
        "(3) The output of `Newflows(G)`.\n",
        "\n",
        "(4) The output of `Flows(G)` giving the current flows and cost of `G`.\n"
      ]
    },
    {
      "cell_type": "code",
      "execution_count": 1,
      "metadata": {
        "id": "kG_IVIxX8FJc"
      },
      "outputs": [],
      "source": []
    },
    {
      "cell_type": "code",
      "execution_count": 2,
      "metadata": {
        "id": "S4W2tr7w8FJc"
      },
      "outputs": [],
      "source": [
        "def Initialise (Gin):\n",
        "    global c,phi,l,cp,lp,Nsink\n",
        "    Nsink=1\n",
        "    for arc in Gin:\n",
        "        i,j=arc\n",
        "        Nsink=max(Nsink,i,j)\n",
        "    # for convenience c[i][j] is capacity of arc [i,j]\n",
        "    c=[[0 for i in range(Nsink+1)] for j in range(Nsink+1)]\n",
        "    phi=[[0 for i in range(Nsink+1)] for j in range(Nsink+1)]\n",
        "    l=[[0 for i in range(Nsink+1)] for j in range(Nsink+1)]\n",
        "    cp=[[0 for i in range(Nsink+1)] for j in range(Nsink+1)]\n",
        "    lp=[[0 for i in range(Nsink+1)] for j in range(Nsink+1)]\n",
        "    print(\"All values of c,phi and l initialised to zero\")\n"
      ]
    },
    {
      "cell_type": "code",
      "execution_count": 3,
      "metadata": {
        "id": "4y1la_gx8FJc"
      },
      "outputs": [],
      "source": [
        "def Flows (Gin):\n",
        "    global Nsink,l,phi\n",
        "    Flowin=[0 for i in range(Nsink+1)]\n",
        "    Flowout=[0 for i in range(Nsink+1)]\n",
        "    for arc in Gin:\n",
        "        i,j=arc\n",
        "        Flowin[j] = Flowin[j] + phi[i][j]\n",
        "        Flowout[i] = Flowout[i] + phi[i][j]\n",
        "    for k in range(2,Nsink):\n",
        "        if Flowin[k] != Flowout[k]:\n",
        "            print(\"*** ERROR *** Flow not conserved at node\", k)\n",
        "    if Flowout[1] != Flowin[Nsink]:\n",
        "        print(\"*** ERROR *** Flow not conserved at source or sink\")\n",
        "    Totalcost = 0\n",
        "    for arc in Gin:\n",
        "        i,j=arc\n",
        "        phi_ij = phi[i][j]\n",
        "        Totalcost = Totalcost + l[i][j]*phi_ij\n",
        "        print(arc,\" has flow \",phi_ij)\n",
        "    print(\"Total Cost is \", Totalcost)\n"
      ]
    },
    {
      "cell_type": "code",
      "execution_count": 4,
      "metadata": {
        "id": "09DNEt_a8FJd"
      },
      "outputs": [],
      "source": [
        "def Links (Gin):\n",
        "    global Nsink,Out\n",
        "    Out=[set() for k in range(Nsink)] # labelled 0..Nsink-1\n",
        "    for arc in Gin:\n",
        "        i,j = arc\n",
        "        Out[i - 1] = Out[i - 1] | set([j])"
      ]
    },
    {
      "cell_type": "code",
      "execution_count": 5,
      "metadata": {
        "id": "Ek5TJ-ms8FJd"
      },
      "outputs": [],
      "source": [
        "def SourceSink(Gin):\n",
        "# finds all paths SinkPaths from source 1 to sink Nsink of network G\n",
        "    global Nsink,SinkPaths\n",
        "    Links(Gin)\n",
        "    Paths = set() # current paths from source stored as set of tuples\n",
        "    SinkPaths = set() # paths from source to sink Nsink stored as set of tuples\n",
        "    path = 1 # source node label\n",
        "    for node in Out[0]:# need out edge from node 1\n",
        "        pathn = (path,node)\n",
        "        if node == Nsink:\n",
        "            SinkPaths = SinkPaths | set([pathn])\n",
        "        else:\n",
        "            Paths = Paths | set([pathn])\n",
        "    Npaths = len(Paths)\n",
        "    while (0 < Npaths):\n",
        "        NewPaths = set()\n",
        "        for oldpath in Paths:\n",
        "            nold = len(oldpath)\n",
        "            m = oldpath[-1] # last node in tuple oldpath\n",
        "            for mout in Out[m-1]:\n",
        "                if not mout in oldpath:\n",
        "                    if mout == Nsink:\n",
        "                        SinkPaths = SinkPaths | set([oldpath+tuple([Nsink])])\n",
        "                    else:\n",
        "                        NewPaths = NewPaths | set([oldpath+tuple([mout])])\n",
        "        Paths = NewPaths\n",
        "        Npaths = len(Paths)\n",
        "    print(\"Paths from source to sink: \",SinkPaths)"
      ]
    },
    {
      "cell_type": "code",
      "execution_count": 6,
      "metadata": {
        "id": "cqdtEDe48FJd"
      },
      "outputs": [],
      "source": [
        "def Newflows(Gin):\n",
        "# A procedure to modify original flows on Gin along SinkPaths of Gp with minimal cost\n",
        "    global Gp,phi,c,l,cp,lp,ArcSign,Out\n",
        "    SourceSink(Gp)\n",
        "    if SinkPaths == set():\n",
        "        Links(Gin)\n",
        "        Flow = 0\n",
        "        for node in Out[0]:\n",
        "            Flow = Flow + phi[1][node]\n",
        "        Cost=0\n",
        "        for arc in Gin:\n",
        "            i,j=arc\n",
        "            Cost=Cost+l[i][j]*phi[i][j]\n",
        "        print(\"Maximal flow found:\", Flow, \" with minimal cost \", Cost)\n",
        "    else:\n",
        "        for k in range(len(SinkPaths)):\n",
        "            cost = 0\n",
        "            epset = set()\n",
        "            path=list(SinkPaths)[k]\n",
        "            for n in range(0, len(path)-1):\n",
        "                i = path[n]; j = path[n+1];  epset = epset | set([cp[i][j]]); cost = lp[i][j] + cost\n",
        "            eps = min(tuple(epset))\n",
        "            if k == 0: # first path\n",
        "                mincost = cost; bestpath = path; besteps = eps\n",
        "            elif cost < mincost:\n",
        "                mincost = cost; bestpath = path; besteps = eps\n",
        "        print(\"A best path in Gp is \", bestpath, \" of minimum cost \", mincost)\n",
        "        print(\"The min capacity on this path is epsilon \", besteps)\n",
        "        print(\"The min cost is \", mincost)\n",
        "        for k in range(0, len(bestpath) - 1):\n",
        "            i = bestpath[k]; j = bestpath[k+1]\n",
        "            if ArcSign[i][j] == 1:\n",
        "                phinewij = phi[i][j] + besteps; phi[i][j]=phinewij\n",
        "            else:\n",
        "                phinewji=phi[j][i] = phi[j][i] - besteps; phi[j][i]=phinewji\n",
        "    #print(\"Flow=\",Flow)"
      ]
    },
    {
      "cell_type": "code",
      "execution_count": 7,
      "metadata": {
        "id": "3cckkUOE8FJd"
      },
      "outputs": [],
      "source": [
        "def Iterate(Gin):\n",
        "    IncremNet(Gin)\n",
        "    Newflows(Gin)\n",
        "    for arc in Gin:\n",
        "        i,j=arc\n",
        "        print((i,j),\" flow = \", phi[i][j])"
      ]
    },
    {
      "cell_type": "code",
      "execution_count": 8,
      "metadata": {
        "id": "QTQG3TV18FJd"
      },
      "outputs": [],
      "source": [
        "def IncremNet(Gin):\n",
        "# procedure to create incremental network Gp from given flow network G\n",
        "    global Gp,Nsink,phi,c,l,cp,lp,ArcSign\n",
        "# define lists for ArcSign, cp and lp  (indexed by 0..Nsink-1)\n",
        "    cp=[[0 for i in range(Nsink+1)] for j in range(Nsink+1)]\n",
        "    lp=[[0 for i in range(Nsink+1)] for j in range(Nsink+1)]\n",
        "    ArcSign=[[0 for i in range(Nsink+1)] for j in range(Nsink+1)]\n",
        "    Gp=set([])\n",
        "    for arc in Gin:\n",
        "        i,j=arc\n",
        "        pij = phi[i][j]; pji = phi[j][i]; cij = c[i][j]; lij = l[i][j]\n",
        "        if (pij < cij and (pji == 0 or not (j,i) in Gin)): # ij arc\n",
        "            #Gp edges, capacitites and costs added\n",
        "            cpij = cij - pij; cp[i][j] = cpij; lpij = lij; lp[i][j] =lpij\n",
        "            ArcSign[i][j] = 1\n",
        "            Gp=Gp | {(i,j)}\n",
        "        if pij>0: # ji arc\n",
        "            cpji = pij; cp[j][i] = cpji; lpji=-lij; lp[j][i] = lpji\n",
        "            ArcSign[j][i] = -1\n",
        "            Gp=Gp | {(j,i)}\n",
        "    print(\"Incremental Network:\",Gp)"
      ]
    },
    {
      "cell_type": "code",
      "execution_count": 8,
      "metadata": {
        "id": "WpUrfPsa8FJd"
      },
      "outputs": [],
      "source": []
    },
    {
      "cell_type": "markdown",
      "metadata": {
        "id": "V44AtoqF8FJd"
      },
      "source": [
        "# Q 1. Power Station/Coal Field Supply\n",
        "### Find the maximal flow for minimal cost for the network below where (capacity,cost) is shown:\n",
        "\n",
        "![Network](https://github.com/mcgettrick/mp305/blob/main/Lab2_1.jpg?raw=1)\n"
      ]
    },
    {
      "cell_type": "markdown",
      "metadata": {
        "id": "_uGWekNM8FJd"
      },
      "source": [
        "## This is the Coalfield/Power station supply problem discussed in the notes\n",
        "### * Find the incremental network, its capacities and costs at each iteration."
      ]
    },
    {
      "cell_type": "code",
      "execution_count": 9,
      "metadata": {
        "id": "3y4nLiAf8FJd"
      },
      "outputs": [],
      "source": [
        "G={(1,2),(1,3),(2,4),(2,5),(3,4),(3,5),(4,6),(5,6)}"
      ]
    },
    {
      "cell_type": "code",
      "execution_count": 10,
      "metadata": {
        "id": "dT_0hYpC8FJd",
        "outputId": "6b8a6a4a-c0b4-405d-d82f-b2f83d041165",
        "colab": {
          "base_uri": "https://localhost:8080/"
        }
      },
      "outputs": [
        {
          "output_type": "stream",
          "name": "stdout",
          "text": [
            "All values of c,phi and l initialised to zero\n"
          ]
        }
      ],
      "source": [
        "Initialise(G)"
      ]
    },
    {
      "cell_type": "markdown",
      "metadata": {
        "id": "9bB6QD-T8FJe"
      },
      "source": [
        "## Input capacities"
      ]
    },
    {
      "cell_type": "code",
      "execution_count": 11,
      "metadata": {
        "id": "sEaORoS88FJe"
      },
      "outputs": [],
      "source": [
        "c[1][2]=3; c[1][3]=5; c[2][4]=3; c[2][5]=3\n",
        "c[3][5]=5; c[3][4]=5; c[4][6]=2; c[5][6]=5"
      ]
    },
    {
      "cell_type": "markdown",
      "metadata": {
        "id": "N9reXv0F8FJe"
      },
      "source": [
        "## Input costs"
      ]
    },
    {
      "cell_type": "code",
      "execution_count": 12,
      "metadata": {
        "id": "eHrB7nLb8FJe"
      },
      "outputs": [],
      "source": [
        "l[1][2]=5; l[1][3]=3;\n",
        "l[2][4]=3\n",
        "l[2][5]=6; l[3][4]=5\n",
        "l[3][5]=9"
      ]
    },
    {
      "cell_type": "code",
      "execution_count": 13,
      "metadata": {
        "id": "TK9stW208FJe",
        "outputId": "893e3ad2-de39-4023-ba7c-476d0fba77c9",
        "colab": {
          "base_uri": "https://localhost:8080/"
        }
      },
      "outputs": [
        {
          "output_type": "stream",
          "name": "stdout",
          "text": [
            "(2, 4)  has flow  0\n",
            "(1, 2)  has flow  0\n",
            "(3, 4)  has flow  0\n",
            "(4, 6)  has flow  0\n",
            "(5, 6)  has flow  0\n",
            "(2, 5)  has flow  0\n",
            "(1, 3)  has flow  0\n",
            "(3, 5)  has flow  0\n",
            "Total Cost is  0\n"
          ]
        }
      ],
      "source": [
        "Flows(G)"
      ]
    },
    {
      "cell_type": "code",
      "execution_count": 14,
      "metadata": {
        "id": "7_8WiS0g8FJe",
        "outputId": "b9dbd553-5dbc-4367-b281-2f00f0d61a40",
        "colab": {
          "base_uri": "https://localhost:8080/"
        }
      },
      "outputs": [
        {
          "output_type": "stream",
          "name": "stdout",
          "text": [
            "Incremental Network: {(2, 4), (1, 2), (2, 5), (3, 4), (5, 6), (4, 6), (1, 3), (3, 5)}\n",
            "Paths from source to sink:  {(1, 2, 5, 6), (1, 3, 4, 6), (1, 2, 4, 6), (1, 3, 5, 6)}\n",
            "A best path in Gp is  (1, 3, 4, 6)  of minimum cost  8\n",
            "The min capacity on this path is epsilon  2\n",
            "The min cost is  8\n",
            "(2, 4)  flow =  0\n",
            "(1, 2)  flow =  0\n",
            "(3, 4)  flow =  2\n",
            "(4, 6)  flow =  2\n",
            "(5, 6)  flow =  0\n",
            "(2, 5)  flow =  0\n",
            "(1, 3)  flow =  2\n",
            "(3, 5)  flow =  0\n"
          ]
        }
      ],
      "source": [
        "Iterate(G)"
      ]
    },
    {
      "cell_type": "markdown",
      "metadata": {
        "id": "-fliM1uR8FJe"
      },
      "source": [
        "### Continue to iterate until max flow for minimal cost found"
      ]
    },
    {
      "cell_type": "code",
      "execution_count": 15,
      "metadata": {
        "id": "uWTzbIDS8FJe",
        "outputId": "5b45ef90-0ba5-475d-f369-922b723b033e",
        "colab": {
          "base_uri": "https://localhost:8080/"
        }
      },
      "outputs": [
        {
          "output_type": "stream",
          "name": "stdout",
          "text": [
            "Incremental Network: {(2, 4), (1, 2), (3, 4), (4, 3), (3, 1), (6, 4), (5, 6), (2, 5), (1, 3), (3, 5)}\n",
            "Paths from source to sink:  {(1, 2, 5, 6), (1, 2, 4, 3, 5, 6), (1, 3, 5, 6)}\n",
            "A best path in Gp is  (1, 2, 5, 6)  of minimum cost  11\n",
            "The min capacity on this path is epsilon  3\n",
            "The min cost is  11\n",
            "(2, 4)  flow =  0\n",
            "(1, 2)  flow =  3\n",
            "(3, 4)  flow =  2\n",
            "(4, 6)  flow =  2\n",
            "(5, 6)  flow =  3\n",
            "(2, 5)  flow =  3\n",
            "(1, 3)  flow =  2\n",
            "(3, 5)  flow =  0\n"
          ]
        }
      ],
      "source": [
        "Iterate(G)"
      ]
    },
    {
      "cell_type": "code",
      "execution_count": 16,
      "metadata": {
        "id": "x9d_qSuM8FJe",
        "outputId": "4a459dcc-6d6e-46cf-93a5-daa0cc138eab",
        "colab": {
          "base_uri": "https://localhost:8080/"
        }
      },
      "outputs": [
        {
          "output_type": "stream",
          "name": "stdout",
          "text": [
            "Incremental Network: {(2, 4), (2, 1), (3, 4), (4, 3), (6, 5), (3, 1), (6, 4), (5, 6), (1, 3), (3, 5), (5, 2)}\n",
            "Paths from source to sink:  {(1, 3, 5, 6)}\n",
            "A best path in Gp is  (1, 3, 5, 6)  of minimum cost  12\n",
            "The min capacity on this path is epsilon  2\n",
            "The min cost is  12\n",
            "(2, 4)  flow =  0\n",
            "(1, 2)  flow =  3\n",
            "(3, 4)  flow =  2\n",
            "(4, 6)  flow =  2\n",
            "(5, 6)  flow =  5\n",
            "(2, 5)  flow =  3\n",
            "(1, 3)  flow =  4\n",
            "(3, 5)  flow =  2\n"
          ]
        }
      ],
      "source": [
        "Iterate(G)"
      ]
    },
    {
      "cell_type": "code",
      "execution_count": 17,
      "metadata": {
        "id": "aI5WLnI78FJe",
        "outputId": "8d74d86c-50cd-471a-f74a-b2209d1d1bd9",
        "colab": {
          "base_uri": "https://localhost:8080/"
        }
      },
      "outputs": [
        {
          "output_type": "stream",
          "name": "stdout",
          "text": [
            "Incremental Network: {(2, 4), (2, 1), (3, 4), (4, 3), (6, 5), (3, 1), (6, 4), (5, 3), (1, 3), (3, 5), (5, 2)}\n",
            "Paths from source to sink:  set()\n",
            "Maximal flow found: 7  with minimal cost  73\n",
            "(2, 4)  flow =  0\n",
            "(1, 2)  flow =  3\n",
            "(3, 4)  flow =  2\n",
            "(4, 6)  flow =  2\n",
            "(5, 6)  flow =  5\n",
            "(2, 5)  flow =  3\n",
            "(1, 3)  flow =  4\n",
            "(3, 5)  flow =  2\n"
          ]
        }
      ],
      "source": [
        "Iterate(G)"
      ]
    },
    {
      "cell_type": "markdown",
      "metadata": {
        "id": "UaDwuHwC8FJe"
      },
      "source": [
        "# Q2. (*)  \n",
        "## A road network is shown below with the capacity and time taken per car on each road indicated.\n",
        "![Network](https://github.com/mcgettrick/mp305/blob/main/Lab2_2.jpg?raw=1)\n"
      ]
    },
    {
      "cell_type": "markdown",
      "metadata": {
        "id": "ptznRcLY8FJf"
      },
      "source": [
        "## * Find the maximal flow through the network for minimal total travel time for all cars from A to B.\n",
        "## * Compare this to the flow from B to A.\n",
        "\n",
        "### Note: You can use the network and capacitites you created in the first lab Network Flows I, Question 3."
      ]
    },
    {
      "cell_type": "code",
      "execution_count": 18,
      "metadata": {
        "id": "Pz9BGxXC8FJf"
      },
      "outputs": [],
      "source": [
        "#Define the Network from A to B\n",
        "# A=1, B=8\n",
        "\n",
        "G1 = {\n",
        "    (1, 2), (2, 1),\n",
        "    (1,3), (3,1),\n",
        "    (2, 5),\n",
        "    (3, 7),\n",
        "    (3, 4),(4,3),(4,2),\n",
        "    (5, 8), (8, 5),\n",
        "    (4, 6),(6,4),(5,6),\n",
        "    (7, 6),(7,8),(8,7)\n",
        "}"
      ]
    },
    {
      "cell_type": "code",
      "execution_count": 19,
      "metadata": {
        "id": "pcvCRETk8FJf",
        "outputId": "c380e551-3d27-47e3-d759-99b94f4ef283",
        "colab": {
          "base_uri": "https://localhost:8080/"
        }
      },
      "outputs": [
        {
          "output_type": "stream",
          "name": "stdout",
          "text": [
            "All values of c,phi and l initialised to zero\n"
          ]
        }
      ],
      "source": [
        "# Initialise with zero flow\n",
        "Initialise(G1)\n",
        "\n",
        "# Define Capacities for G3\n",
        "c[1][2] = 5; c[2][1] = 5; c[3][4] = 5\n",
        "c[4][3] = 5; c[3][1] = 4; c[3][7] = 3\n",
        "c[4][6] = 5; c[6][4] = 5; c[7][6] = 4\n",
        "c[2][5] = 3; c[1][3] = 4; c[5][8] = 6\n",
        "c[8][7] = 4; c[4][2] = 4; c[5][6] = 2\n",
        "c[8][5] = 6; c[7][8] = 4"
      ]
    },
    {
      "cell_type": "code",
      "source": [
        "Flows(G1)"
      ],
      "metadata": {
        "id": "HmlWDECk-Q1w",
        "outputId": "ccfd9a3e-10a6-45e9-9239-48e3171caea9",
        "colab": {
          "base_uri": "https://localhost:8080/"
        }
      },
      "execution_count": 20,
      "outputs": [
        {
          "output_type": "stream",
          "name": "stdout",
          "text": [
            "(1, 2)  has flow  0\n",
            "(2, 1)  has flow  0\n",
            "(3, 4)  has flow  0\n",
            "(4, 3)  has flow  0\n",
            "(3, 1)  has flow  0\n",
            "(3, 7)  has flow  0\n",
            "(4, 6)  has flow  0\n",
            "(6, 4)  has flow  0\n",
            "(7, 6)  has flow  0\n",
            "(2, 5)  has flow  0\n",
            "(1, 3)  has flow  0\n",
            "(5, 8)  has flow  0\n",
            "(8, 7)  has flow  0\n",
            "(4, 2)  has flow  0\n",
            "(5, 6)  has flow  0\n",
            "(8, 5)  has flow  0\n",
            "(7, 8)  has flow  0\n",
            "Total Cost is  0\n"
          ]
        }
      ]
    },
    {
      "cell_type": "code",
      "source": [
        "Iterate(G1)"
      ],
      "metadata": {
        "id": "Fzvvov79-UCI",
        "outputId": "75fb7092-3fd8-4433-fa6e-c3097b05d924",
        "colab": {
          "base_uri": "https://localhost:8080/"
        }
      },
      "execution_count": 21,
      "outputs": [
        {
          "output_type": "stream",
          "name": "stdout",
          "text": [
            "Incremental Network: {(1, 2), (2, 1), (3, 4), (4, 3), (3, 1), (3, 7), (4, 6), (6, 4), (7, 6), (2, 5), (1, 3), (5, 8), (8, 7), (4, 2), (5, 6), (8, 5), (7, 8)}\n",
            "Paths from source to sink:  {(1, 3, 7, 8), (1, 2, 5, 8), (1, 2, 5, 6, 4, 3, 7, 8), (1, 3, 7, 6, 4, 2, 5, 8), (1, 3, 4, 2, 5, 8)}\n",
            "A best path in Gp is  (1, 3, 7, 8)  of minimum cost  0\n",
            "The min capacity on this path is epsilon  3\n",
            "The min cost is  0\n",
            "(1, 2)  flow =  0\n",
            "(2, 1)  flow =  0\n",
            "(3, 4)  flow =  0\n",
            "(4, 3)  flow =  0\n",
            "(3, 1)  flow =  0\n",
            "(3, 7)  flow =  3\n",
            "(4, 6)  flow =  0\n",
            "(6, 4)  flow =  0\n",
            "(7, 6)  flow =  0\n",
            "(2, 5)  flow =  0\n",
            "(1, 3)  flow =  3\n",
            "(5, 8)  flow =  0\n",
            "(8, 7)  flow =  0\n",
            "(4, 2)  flow =  0\n",
            "(5, 6)  flow =  0\n",
            "(8, 5)  flow =  0\n",
            "(7, 8)  flow =  3\n"
          ]
        }
      ]
    },
    {
      "cell_type": "code",
      "source": [
        "Iterate(G1)"
      ],
      "metadata": {
        "id": "YgZsRlPi_IU7",
        "outputId": "6553f0f3-7507-4721-ff5b-b8a5bbd5a166",
        "colab": {
          "base_uri": "https://localhost:8080/"
        }
      },
      "execution_count": 22,
      "outputs": [
        {
          "output_type": "stream",
          "name": "stdout",
          "text": [
            "Incremental Network: {(1, 2), (2, 1), (3, 4), (4, 3), (3, 1), (4, 6), (6, 4), (7, 3), (7, 6), (2, 5), (1, 3), (5, 8), (8, 7), (4, 2), (5, 6), (8, 5), (7, 8)}\n",
            "Paths from source to sink:  {(1, 2, 5, 8), (1, 3, 4, 2, 5, 8)}\n",
            "A best path in Gp is  (1, 2, 5, 8)  of minimum cost  0\n",
            "The min capacity on this path is epsilon  3\n",
            "The min cost is  0\n",
            "(1, 2)  flow =  3\n",
            "(2, 1)  flow =  0\n",
            "(3, 4)  flow =  0\n",
            "(4, 3)  flow =  0\n",
            "(3, 1)  flow =  0\n",
            "(3, 7)  flow =  3\n",
            "(4, 6)  flow =  0\n",
            "(6, 4)  flow =  0\n",
            "(7, 6)  flow =  0\n",
            "(2, 5)  flow =  3\n",
            "(1, 3)  flow =  3\n",
            "(5, 8)  flow =  3\n",
            "(8, 7)  flow =  0\n",
            "(4, 2)  flow =  0\n",
            "(5, 6)  flow =  0\n",
            "(8, 5)  flow =  0\n",
            "(7, 8)  flow =  3\n"
          ]
        }
      ]
    },
    {
      "cell_type": "code",
      "source": [
        "Iterate(G1)"
      ],
      "metadata": {
        "id": "Fdwn5ZMH_Kky",
        "outputId": "2fce68e6-74ee-4a87-8bc5-0e7136d82b5a",
        "colab": {
          "base_uri": "https://localhost:8080/"
        }
      },
      "execution_count": 23,
      "outputs": [
        {
          "output_type": "stream",
          "name": "stdout",
          "text": [
            "Incremental Network: {(1, 2), (2, 1), (3, 4), (4, 3), (3, 1), (4, 6), (6, 4), (7, 3), (7, 6), (1, 3), (5, 2), (5, 8), (8, 7), (4, 2), (5, 6), (8, 5), (7, 8)}\n",
            "Paths from source to sink:  set()\n",
            "Maximal flow found: 6  with minimal cost  0\n",
            "(1, 2)  flow =  3\n",
            "(2, 1)  flow =  0\n",
            "(3, 4)  flow =  0\n",
            "(4, 3)  flow =  0\n",
            "(3, 1)  flow =  0\n",
            "(3, 7)  flow =  3\n",
            "(4, 6)  flow =  0\n",
            "(6, 4)  flow =  0\n",
            "(7, 6)  flow =  0\n",
            "(2, 5)  flow =  3\n",
            "(1, 3)  flow =  3\n",
            "(5, 8)  flow =  3\n",
            "(8, 7)  flow =  0\n",
            "(4, 2)  flow =  0\n",
            "(5, 6)  flow =  0\n",
            "(8, 5)  flow =  0\n",
            "(7, 8)  flow =  3\n"
          ]
        }
      ]
    },
    {
      "cell_type": "code",
      "source": [
        "#Define the Network from B to A (assuming two-way roads)\n",
        "# B=8, A=1\n",
        "G2_reverse={(1,2),(2,1),(3,2),(3,8),(8,3),(1,4),(4,1),(2,5),(6,3),(7,8),(8,7),(4,5),(5,6),(6,5),(6,7),(7,6),(7,4)}\n",
        "# This is illustrative; the code adds arcs (j,i) for every (i,j)\n",
        "\n",
        "# Initialise a new graph for B->A flow\n",
        "# Let's use the same node numbers, just set source=8, sink=1\n",
        "# The python code provided assumes source=1, sink=Nsink, so we must relabel nodes.\n",
        "# B=1, A=8. The topology changes entirely. For simplicity, we trace paths manually.\n"
      ],
      "metadata": {
        "id": "KL77elbVANm3"
      },
      "execution_count": 24,
      "outputs": []
    },
    {
      "cell_type": "code",
      "source": [
        "Initialise(G2_reverse)\n"
      ],
      "metadata": {
        "id": "M3L7WER6AVBj",
        "outputId": "78587a65-c7f3-4ca8-957f-5ebca2f72ca1",
        "colab": {
          "base_uri": "https://localhost:8080/"
        }
      },
      "execution_count": 25,
      "outputs": [
        {
          "output_type": "stream",
          "name": "stdout",
          "text": [
            "All values of c,phi and l initialised to zero\n"
          ]
        }
      ]
    },
    {
      "cell_type": "code",
      "source": [
        "Flows(G2_reverse)"
      ],
      "metadata": {
        "id": "JK2rfKtyAY6e",
        "outputId": "3bf05340-ab0c-4624-9f77-8b82d616295c",
        "colab": {
          "base_uri": "https://localhost:8080/"
        }
      },
      "execution_count": 26,
      "outputs": [
        {
          "output_type": "stream",
          "name": "stdout",
          "text": [
            "(1, 2)  has flow  0\n",
            "(2, 1)  has flow  0\n",
            "(6, 7)  has flow  0\n",
            "(8, 3)  has flow  0\n",
            "(7, 6)  has flow  0\n",
            "(3, 2)  has flow  0\n",
            "(2, 5)  has flow  0\n",
            "(4, 1)  has flow  0\n",
            "(7, 4)  has flow  0\n",
            "(3, 8)  has flow  0\n",
            "(6, 5)  has flow  0\n",
            "(8, 7)  has flow  0\n",
            "(1, 4)  has flow  0\n",
            "(4, 5)  has flow  0\n",
            "(5, 6)  has flow  0\n",
            "(6, 3)  has flow  0\n",
            "(7, 8)  has flow  0\n",
            "Total Cost is  0\n"
          ]
        }
      ]
    },
    {
      "cell_type": "code",
      "source": [
        "c[1][2] = 6; c[2][1] = 6; c[3][2] = 3\n",
        "c[3][8] = 5; c[8][3] = 5; c[1][4] = 4\n",
        "c[4][1] = 4; c[2][5] = 2; c[6][3] = 4\n",
        "c[7][8] = 4; c[8][7] = 4; c[4][5] = 4\n",
        "c[5][6] = 5; c[6][5] = 5; c[6][7] = 5\n",
        "c[7][6] = 5; c[7][4] = 3"
      ],
      "metadata": {
        "id": "JXZJmhBaAc-M"
      },
      "execution_count": 27,
      "outputs": []
    },
    {
      "cell_type": "code",
      "source": [
        "Iterate(G2_reverse)"
      ],
      "metadata": {
        "id": "Y10bM5qPAlpb",
        "outputId": "5a983e62-999c-41b9-cda3-bd9639e48636",
        "colab": {
          "base_uri": "https://localhost:8080/"
        }
      },
      "execution_count": 28,
      "outputs": [
        {
          "output_type": "stream",
          "name": "stdout",
          "text": [
            "Incremental Network: {(1, 2), (2, 1), (6, 7), (8, 3), (7, 6), (3, 2), (2, 5), (4, 1), (7, 4), (3, 8), (6, 5), (8, 7), (1, 4), (4, 5), (5, 6), (6, 3), (7, 8)}\n",
            "Paths from source to sink:  {(1, 4, 5, 6, 7, 8), (1, 2, 5, 6, 7, 8), (1, 4, 5, 6, 3, 8), (1, 2, 5, 6, 3, 8)}\n",
            "A best path in Gp is  (1, 4, 5, 6, 7, 8)  of minimum cost  0\n",
            "The min capacity on this path is epsilon  4\n",
            "The min cost is  0\n",
            "(1, 2)  flow =  0\n",
            "(2, 1)  flow =  0\n",
            "(6, 7)  flow =  4\n",
            "(8, 3)  flow =  0\n",
            "(7, 6)  flow =  0\n",
            "(3, 2)  flow =  0\n",
            "(2, 5)  flow =  0\n",
            "(4, 1)  flow =  0\n",
            "(7, 4)  flow =  0\n",
            "(3, 8)  flow =  0\n",
            "(6, 5)  flow =  0\n",
            "(8, 7)  flow =  0\n",
            "(1, 4)  flow =  4\n",
            "(4, 5)  flow =  4\n",
            "(5, 6)  flow =  4\n",
            "(6, 3)  flow =  0\n",
            "(7, 8)  flow =  4\n"
          ]
        }
      ]
    },
    {
      "cell_type": "code",
      "source": [
        "Iterate(G2_reverse)"
      ],
      "metadata": {
        "id": "jwRJIWW1AwPg",
        "outputId": "80468c91-3c46-4786-a758-7f32cfae26b8",
        "colab": {
          "base_uri": "https://localhost:8080/"
        }
      },
      "execution_count": 29,
      "outputs": [
        {
          "output_type": "stream",
          "name": "stdout",
          "text": [
            "Incremental Network: {(7, 4), (3, 8), (1, 2), (2, 1), (6, 5), (8, 7), (5, 4), (6, 7), (8, 3), (7, 6), (6, 3), (5, 6), (3, 2), (2, 5), (4, 1)}\n",
            "Paths from source to sink:  {(1, 2, 5, 6, 3, 8)}\n",
            "A best path in Gp is  (1, 2, 5, 6, 3, 8)  of minimum cost  0\n",
            "The min capacity on this path is epsilon  1\n",
            "The min cost is  0\n",
            "(1, 2)  flow =  1\n",
            "(2, 1)  flow =  0\n",
            "(6, 7)  flow =  4\n",
            "(8, 3)  flow =  0\n",
            "(7, 6)  flow =  0\n",
            "(3, 2)  flow =  0\n",
            "(2, 5)  flow =  1\n",
            "(4, 1)  flow =  0\n",
            "(7, 4)  flow =  0\n",
            "(3, 8)  flow =  1\n",
            "(6, 5)  flow =  0\n",
            "(8, 7)  flow =  0\n",
            "(1, 4)  flow =  4\n",
            "(4, 5)  flow =  4\n",
            "(5, 6)  flow =  5\n",
            "(6, 3)  flow =  1\n",
            "(7, 8)  flow =  4\n"
          ]
        }
      ]
    },
    {
      "cell_type": "code",
      "source": [
        "Iterate(G2_reverse)\n"
      ],
      "metadata": {
        "id": "NzYCvjNFAxu3",
        "outputId": "e5569632-b0a9-4586-e536-e45f72e96736",
        "colab": {
          "base_uri": "https://localhost:8080/"
        }
      },
      "execution_count": 30,
      "outputs": [
        {
          "output_type": "stream",
          "name": "stdout",
          "text": [
            "Incremental Network: {(7, 4), (3, 8), (1, 2), (2, 1), (6, 5), (8, 7), (5, 4), (6, 7), (8, 3), (7, 6), (6, 3), (3, 6), (3, 2), (2, 5), (4, 1), (5, 2)}\n",
            "Paths from source to sink:  set()\n",
            "Maximal flow found: 5  with minimal cost  0\n",
            "(1, 2)  flow =  1\n",
            "(2, 1)  flow =  0\n",
            "(6, 7)  flow =  4\n",
            "(8, 3)  flow =  0\n",
            "(7, 6)  flow =  0\n",
            "(3, 2)  flow =  0\n",
            "(2, 5)  flow =  1\n",
            "(4, 1)  flow =  0\n",
            "(7, 4)  flow =  0\n",
            "(3, 8)  flow =  1\n",
            "(6, 5)  flow =  0\n",
            "(8, 7)  flow =  0\n",
            "(1, 4)  flow =  4\n",
            "(4, 5)  flow =  4\n",
            "(5, 6)  flow =  5\n",
            "(6, 3)  flow =  1\n",
            "(7, 8)  flow =  4\n"
          ]
        }
      ]
    },
    {
      "cell_type": "code",
      "source": [
        "#The maximal flow when we take A as start and B as sink is 6 Whereas for reverse the maximal flow is 5."
      ],
      "metadata": {
        "id": "aNdc6Dq2BOAh"
      },
      "execution_count": 31,
      "outputs": []
    },
    {
      "cell_type": "markdown",
      "metadata": {
        "id": "szWxOhJr8FJf"
      },
      "source": [
        " # Q.3 (*) Soft Drinks Stock Control\n",
        " ## A soft drinks firm buys fruit at the beginning of each month $i$ at a cost per 100kg $p_i$ in units of 1000 Euro.\n",
        " ## The firm can store up 2000kg of fruit at any given time where cost in units 1000 Euro of refrigeration per month per 100kg is $r_i$.\n",
        "## The consumption requirements are $c_i$ per month in 100kg units.\n",
        "\n",
        "## Based on last year's figures,  the following estimates have been made:\n",
        "\\begin{array}{|l|l|l|l|l|l|l|l|l|l|l|l|l|}\n",
        "\\hline\n",
        "i & Jan & Feb & Mar & April & May & June & July & Aug & Sept & Oct & Nov &\n",
        "Dec \\\\ \\hline\n",
        "p_{i} & 18 & 17 & 17 & 15 & 12 & 8 & 7 & 6 & 9 & 12 & 14 & 17 \\\\ \\hline\n",
        "r_{i} & 1 & 1 & 2 & 2 & 3 & 5 & 6 & 6 & 5 & 3 & 2 & 1 \\\\ \\hline\n",
        "c_{i} & 9 & 6 & 6 & 7 & 11 & 14 & 16 & 18 & 15 & 10 & 7 & 6 \\\\ \\hline\n",
        "\\end{array}"
      ]
    },
    {
      "cell_type": "code",
      "execution_count": 31,
      "metadata": {
        "id": "-48RsKIe8FJf"
      },
      "outputs": [],
      "source": []
    },
    {
      "cell_type": "markdown",
      "metadata": {
        "id": "jnqKifXH8FJf"
      },
      "source": [
        "## (a) Find the best purchasing schedule starting from January based on these estimates assuming that the firm has no fruit in storage on Jan 1st.\n",
        "## How much will fruit cost for the year and how much will be spent on refrigeration?\n",
        "\n",
        "## (b) Suppose that the firm has 500kg of fruit in storage at the beginning of the year.\n",
        "## What is the best purchasing schedule that ensures that 500kg of fruit is again in storage at the very end of the year?"
      ]
    },
    {
      "cell_type": "code",
      "execution_count": 32,
      "metadata": {
        "id": "5K1G_SXe8FJf"
      },
      "outputs": [],
      "source": [
        "p = [18, 17, 17, 15, 12, 8, 7, 6, 9, 12, 14, 17]\n",
        "r = [1, 1, 2, 2, 3, 5, 6, 6, 5, 3, 2, 1]\n",
        "c = [9, 6, 6, 7, 11, 14, 16, 18, 15, 10, 7, 6]\n",
        "\n",
        "months = [\"Jan\", \"Feb\", \"Mar\", \"Apr\", \"May\", \"Jun\",\n",
        "           \"Jul\", \"Aug\", \"Sep\", \"Oct\", \"Nov\", \"Dec\"]\n",
        "\n",
        "capacity = 20   # 2000 kg (in 100 kg units)\n"
      ]
    },
    {
      "cell_type": "code",
      "execution_count": 36,
      "metadata": {
        "id": "yx9VyUc08FJf",
        "outputId": "870ff2af-8adf-4c73-baac-4c28d1097b45",
        "colab": {
          "base_uri": "https://localhost:8080/"
        }
      },
      "outputs": [
        {
          "output_type": "stream",
          "name": "stdout",
          "text": [
            "=== (a) Start with no fruit ===\n",
            "   Month  Purchase (100kg)  Consumption (100kg)  End Inventory (100kg)  \\\n",
            "0    Jan                 9                    9                      0   \n",
            "1    Feb                 6                    6                      0   \n",
            "2    Mar                 6                    6                      0   \n",
            "3    Apr                 7                    7                      0   \n",
            "4    May                11                   11                      0   \n",
            "5    Jun                14                   14                      0   \n",
            "6    Jul                16                   16                      0   \n",
            "7    Aug                18                   18                      0   \n",
            "8    Sep                15                   15                      0   \n",
            "9    Oct                10                   10                      0   \n",
            "10   Nov                13                    7                      6   \n",
            "11   Dec                 0                    6                      0   \n",
            "\n",
            "    Purchase Cost (×1000€)  Refrig. Cost (×1000€)  \n",
            "0                      162                      0  \n",
            "1                      102                      0  \n",
            "2                      102                      0  \n",
            "3                      105                      0  \n",
            "4                      132                      0  \n",
            "5                      112                      0  \n",
            "6                      112                      0  \n",
            "7                      108                      0  \n",
            "8                      135                      0  \n",
            "9                      120                      0  \n",
            "10                     182                     12  \n",
            "11                       0                      0  \n",
            "\n",
            "Totals (a): {'Total Purchase Cost (×1000€)': 1372, 'Total Refrigeration Cost (×1000€)': 12, 'Total Cost (×1000€)': 1384}\n",
            "\n",
            "=== (b) Start and end with 500kg ===\n",
            "   Month  Purchase (100kg)  Consumption (100kg)  End Inventory (100kg)  \\\n",
            "0    Jan                 4                    9                      0   \n",
            "1    Feb                 6                    6                      0   \n",
            "2    Mar                 6                    6                      0   \n",
            "3    Apr                 7                    7                      0   \n",
            "4    May                11                   11                      0   \n",
            "5    Jun                14                   14                      0   \n",
            "6    Jul                16                   16                      0   \n",
            "7    Aug                18                   18                      0   \n",
            "8    Sep                15                   15                      0   \n",
            "9    Oct                10                   10                      0   \n",
            "10   Nov                18                    7                     11   \n",
            "11   Dec                 0                    6                      5   \n",
            "\n",
            "    Purchase Cost (×1000€)  Refrig. Cost (×1000€)  \n",
            "0                       72                      0  \n",
            "1                      102                      0  \n",
            "2                      102                      0  \n",
            "3                      105                      0  \n",
            "4                      132                      0  \n",
            "5                      112                      0  \n",
            "6                      112                      0  \n",
            "7                      108                      0  \n",
            "8                      135                      0  \n",
            "9                      120                      0  \n",
            "10                     252                     22  \n",
            "11                       0                      5  \n",
            "\n",
            "Totals (b): {'Total Purchase Cost (×1000€)': 1352, 'Total Refrigeration Cost (×1000€)': 27, 'Total Cost (×1000€)': 1379}\n"
          ]
        }
      ],
      "source": [
        "import pandas as pd\n",
        "def optimal_schedule(initial_stock=0, final_stock=None):\n",
        "    n = len(months)\n",
        "    INF = 10**9\n",
        "\n",
        "    dp = [[(INF, None, None) for _ in range(capacity + 1)] for _ in range(n + 1)]\n",
        "    dp[0][initial_stock] = (0, None, None)\n",
        "\n",
        "\n",
        "    for i in range(n):\n",
        "        for s_prev in range(capacity + 1):\n",
        "            cost_prev, _, _ = dp[i][s_prev]\n",
        "            if cost_prev >= INF:\n",
        "                continue\n",
        "\n",
        "            min_buy = max(0, c[i] - s_prev)\n",
        "            max_buy = capacity - s_prev\n",
        "\n",
        "            for x_i in range(min_buy, max_buy + 1):\n",
        "                s_next = s_prev + x_i - c[i]\n",
        "                if s_next < 0 or s_next > capacity:\n",
        "                    continue\n",
        "\n",
        "                cost_now = cost_prev + p[i]*x_i + r[i]*s_next\n",
        "\n",
        "                if cost_now < dp[i+1][s_next][0]:\n",
        "                    dp[i+1][s_next] = (cost_now, s_prev, x_i)\n",
        "\n",
        "    if final_stock is None:\n",
        "        final_stock = min(range(capacity + 1), key=lambda s: dp[n][s][0])\n",
        "\n",
        "    total_cost = dp[n][final_stock][0]\n",
        "\n",
        "    purchases = [0] * n\n",
        "    stock = [0] * (n + 1)\n",
        "    stock[n] = final_stock\n",
        "\n",
        "    for i in range(n, 0, -1):\n",
        "        _, s_prev, x_i = dp[i][stock[i]]\n",
        "        purchases[i-1] = x_i\n",
        "        stock[i-1] = s_prev\n",
        "\n",
        "\n",
        "    purchase_cost = sum(p[i] * purchases[i] for i in range(n))\n",
        "    refrigeration_cost = sum(r[i] * stock[i+1] for i in range(n))\n",
        "\n",
        "\n",
        "    df = pd.DataFrame({\n",
        "        \"Month\": months,\n",
        "        \"Purchase (100kg)\": purchases,\n",
        "        \"Consumption (100kg)\": c,\n",
        "        \"End Inventory (100kg)\": stock[1:],\n",
        "        \"Purchase Cost (×1000€)\": [p[i]*purchases[i] for i in range(n)],\n",
        "        \"Refrig. Cost (×1000€)\": [r[i]*stock[i+1] for i in range(n)]\n",
        "    })\n",
        "\n",
        "    totals = {\n",
        "        \"Total Purchase Cost (×1000€)\": purchase_cost,\n",
        "        \"Total Refrigeration Cost (×1000€)\": refrigeration_cost,\n",
        "        \"Total Cost (×1000€)\": purchase_cost + refrigeration_cost\n",
        "    }\n",
        "\n",
        "    return df, totals\n",
        "\n",
        "\n",
        "\n",
        "df_a, totals_a = optimal_schedule(initial_stock=0)\n",
        "print(\"=== (a) Start with no fruit ===\")\n",
        "print(df_a)\n",
        "print(\"\\nTotals (a):\", totals_a)\n",
        "\n",
        "\n",
        "\n",
        "df_b, totals_b = optimal_schedule(initial_stock=5, final_stock=5)\n",
        "print(\"\\n=== (b) Start and end with 500kg ===\")\n",
        "print(df_b)\n",
        "print(\"\\nTotals (b):\", totals_b)\n"
      ]
    },
    {
      "cell_type": "code",
      "execution_count": 37,
      "metadata": {
        "id": "_0j_LFTG8FJf",
        "outputId": "4efd69ad-4c5a-4bd0-9596-85aca8e0976c",
        "colab": {
          "base_uri": "https://localhost:8080/",
          "height": 258
        }
      },
      "outputs": [
        {
          "output_type": "error",
          "ename": "NameError",
          "evalue": "name 'optimize_schedule' is not defined",
          "traceback": [
            "\u001b[0;31m---------------------------------------------------------------------------\u001b[0m",
            "\u001b[0;31mNameError\u001b[0m                                 Traceback (most recent call last)",
            "\u001b[0;32m/tmp/ipython-input-3267313117.py\u001b[0m in \u001b[0;36m<cell line: 0>\u001b[0;34m()\u001b[0m\n\u001b[1;32m      1\u001b[0m \u001b[0;31m# (a) No starting stock, no ending stock\u001b[0m\u001b[0;34m\u001b[0m\u001b[0;34m\u001b[0m\u001b[0m\n\u001b[0;32m----> 2\u001b[0;31m \u001b[0mschedule_a\u001b[0m\u001b[0;34m,\u001b[0m \u001b[0mpur_a\u001b[0m\u001b[0;34m,\u001b[0m \u001b[0mref_a\u001b[0m\u001b[0;34m,\u001b[0m \u001b[0mtot_a\u001b[0m \u001b[0;34m=\u001b[0m \u001b[0moptimize_schedule\u001b[0m\u001b[0;34m(\u001b[0m\u001b[0;36m0\u001b[0m\u001b[0;34m,\u001b[0m \u001b[0;36m0\u001b[0m\u001b[0;34m)\u001b[0m\u001b[0;34m\u001b[0m\u001b[0;34m\u001b[0m\u001b[0m\n\u001b[0m\u001b[1;32m      3\u001b[0m \u001b[0mprint\u001b[0m\u001b[0;34m(\u001b[0m\u001b[0;34m\"\\n--- Case (a): Start = 0, End = 0 ---\"\u001b[0m\u001b[0;34m)\u001b[0m\u001b[0;34m\u001b[0m\u001b[0;34m\u001b[0m\u001b[0m\n\u001b[1;32m      4\u001b[0m \u001b[0;32mfor\u001b[0m \u001b[0mm\u001b[0m\u001b[0;34m,\u001b[0m \u001b[0mbuy\u001b[0m\u001b[0;34m,\u001b[0m \u001b[0minv\u001b[0m \u001b[0;32min\u001b[0m \u001b[0mschedule_a\u001b[0m\u001b[0;34m:\u001b[0m\u001b[0;34m\u001b[0m\u001b[0;34m\u001b[0m\u001b[0m\n\u001b[1;32m      5\u001b[0m     \u001b[0mprint\u001b[0m\u001b[0;34m(\u001b[0m\u001b[0;34mf\"{m:>3}: Buy {buy:>2} units, End inv = {inv:>2}\"\u001b[0m\u001b[0;34m)\u001b[0m\u001b[0;34m\u001b[0m\u001b[0;34m\u001b[0m\u001b[0m\n",
            "\u001b[0;31mNameError\u001b[0m: name 'optimize_schedule' is not defined"
          ]
        }
      ],
      "source": [
        "# (a) No starting stock, no ending stock\n",
        "schedule_a, pur_a, ref_a, tot_a = optimize_schedule(0, 0)\n",
        "print(\"\\n--- Case (a): Start = 0, End = 0 ---\")\n",
        "for m, buy, inv in schedule_a:\n",
        "    print(f\"{m:>3}: Buy {buy:>2} units, End inv = {inv:>2}\")\n",
        "print(f\"Purchase cost: {pur_a}, Refrigeration: {ref_a}, Total: {tot_a}\")"
      ]
    },
    {
      "cell_type": "code",
      "source": [
        "# (b) Start with 5 units, must end with 5 units\n",
        "schedule_b, pur_b, ref_b, tot_b = optimize_schedule(5, 5)\n",
        "print(\"\\n--- Case (b): Start = 5, End = 5 ---\")\n",
        "for m, buy, inv in schedule_b:\n",
        "    print(f\"{m:>3}: Buy {buy:>2} units, End inv = {inv:>2}\")\n",
        "print(f\"Purchase cost: {pur_b}, Refrigeration: {ref_b}, Total: {tot_b}\")"
      ],
      "metadata": {
        "id": "1R35h7ckDWB-"
      },
      "execution_count": null,
      "outputs": []
    }
  ],
  "metadata": {
    "kernelspec": {
      "display_name": "Python 3 (ipykernel)",
      "language": "python",
      "name": "python3"
    },
    "language_info": {
      "codemirror_mode": {
        "name": "ipython",
        "version": 3
      },
      "file_extension": ".py",
      "mimetype": "text/x-python",
      "name": "python",
      "nbconvert_exporter": "python",
      "pygments_lexer": "ipython3",
      "version": "3.11.4"
    },
    "colab": {
      "provenance": []
    }
  },
  "nbformat": 4,
  "nbformat_minor": 0
}