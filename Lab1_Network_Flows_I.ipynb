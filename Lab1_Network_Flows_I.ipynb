{
  "cells": [
    {
      "cell_type": "markdown",
      "metadata": {
        "id": "-pGp5lkbCBFs"
      },
      "source": [
        "# MP305 Network Flow Models I"
      ]
    },
    {
      "cell_type": "code",
      "execution_count": 1,
      "metadata": {
        "id": "-x6bLZWYCBFt"
      },
      "outputs": [],
      "source": [
        "from IPython.display import display, Math, Latex"
      ]
    },
    {
      "cell_type": "markdown",
      "metadata": {
        "id": "euhXfEIuCBFt"
      },
      "source": [
        "## Overview\n",
        "\n",
        "This file contains a number of Python functions for finding the maximal flow through a network $G$ subject to minimal cost using the Ford Fulkerson Algorithm.\n",
        "\n",
        "The network graph $G$ is stored in a set `G` of two element tuples `(i,j)` describing the directed arcs $(i,j)$ of $G$.\n",
        "\n",
        "It is assumed that node number $1$ is the source and the greatest node `Nsink` is the sink.  \n",
        "Thus `G={(1,2),(2,3),(1,3)}`  describes a network with 3 nodes where node 1 is the source and node 3 is the sink.\n",
        "\n",
        "The capacity $c(i,j)$, flow $\\phi(i,j)$ and cost $l(i,j)$ of the arc $(i,j)$ of $G$ are stored in `c[i][j]`, `phi[i][j]` and `l[i][j]`.\n",
        "Here `c`, `phi` and `l` are Python lists.\n",
        "\n",
        "## Python Functions\n",
        "### The `Initialise(G)` function\n",
        "Having defined the network $G$, initialise `c`, `phi` and `l` values to zero via the `Initialise` function before defining their values in any particular example.  The global variable `Nsink`,  the sink node of $G$, is also found by the `Initialise` function .\n",
        "\n",
        "### The main `Iterate(G)`function\n",
        "This implements the full algorithm to find the maximum flow with minimal cost."
      ]
    },
    {
      "cell_type": "code",
      "execution_count": null,
      "metadata": {
        "id": "n4McJfZcCBFt"
      },
      "outputs": [],
      "source": []
    },
    {
      "cell_type": "markdown",
      "metadata": {
        "id": "spIsgNLiCBFu"
      },
      "source": [
        "## The `Iterate(G)` function is based on a number of other Python functions:\n",
        "\n",
        "### `Flows(G)`\n",
        "This checks for conservation of flow and prints out all of the current flows for G and the total cost of this flow.\n",
        "\n",
        "###  `Links(G)`\n",
        "This finds all arcs `(i,j1)`, ` (i,j2)`,  ... *out* of node `i` of `G`.  The nodes `j1,j2,..` are stored in a global list of sets `Out`.\n",
        "\n",
        "###  `SourceSink(G)`\n",
        "This finds all of the paths from source to sink in any network `G` and results in a global set `SinkPaths` of such paths.\n",
        "\n",
        "###  `IncremNet(G)`\n",
        "This finds the Incremental Network `Gp` associated with the current flow of the network `G`.\n",
        "\n",
        "###  `Newflows(G)`\n",
        "This updates the flows `phi` of `G` according to the best chain found through `Gp`. If the maximal flow is reached, then this is indicated and the maximum flow value is outputed. Otherwise, the output is: the change in flow (`eps`), the cost of the best chain, and the best chain.\n",
        "\n",
        "###  `Iterate(G)`\n",
        "Implements the full algorithm to find the maximum flow with minimal cost.\n",
        "The output is as follows:\n",
        "\n",
        "(1) The incremental network `Gp`.\n",
        "\n",
        "(2) The paths through `Gp` from source to sink.\n",
        "\n",
        "(3) The output of `Newflows(G)`.\n",
        "\n",
        "(4) The output of `Flows(G)` giving the current flows and cost of `G`.\n"
      ]
    },
    {
      "cell_type": "code",
      "execution_count": null,
      "metadata": {
        "id": "DbVup9HNCBFu"
      },
      "outputs": [],
      "source": []
    },
    {
      "cell_type": "code",
      "execution_count": 2,
      "metadata": {
        "id": "tSlROoHzCBFu"
      },
      "outputs": [],
      "source": [
        "def Initialise (Gin):\n",
        "    global c,phi,l,cp,lp,Nsink\n",
        "    Nsink=1\n",
        "    for arc in Gin:\n",
        "        i,j=arc\n",
        "        Nsink=max(Nsink,i,j)\n",
        "    # for convenience c[i][j] is capacity of arc [i,j]\n",
        "    c=[[0 for i in range(Nsink+1)] for j in range(Nsink+1)]\n",
        "    phi=[[0 for i in range(Nsink+1)] for j in range(Nsink+1)]\n",
        "    l=[[0 for i in range(Nsink+1)] for j in range(Nsink+1)]\n",
        "    cp=[[0 for i in range(Nsink+1)] for j in range(Nsink+1)]\n",
        "    lp=[[0 for i in range(Nsink+1)] for j in range(Nsink+1)]\n",
        "    print(\"All values of c,phi and l initialised to zero\")\n"
      ]
    },
    {
      "cell_type": "code",
      "execution_count": 3,
      "metadata": {
        "id": "td7VjToWCBFu"
      },
      "outputs": [],
      "source": [
        "def Flows (Gin):\n",
        "    global Nsink,l,phi\n",
        "    Flowin=[0 for i in range(Nsink+1)]\n",
        "    Flowout=[0 for i in range(Nsink+1)]\n",
        "    for arc in Gin:\n",
        "        i,j=arc\n",
        "        Flowin[j] = Flowin[j] + phi[i][j]\n",
        "        Flowout[i] = Flowout[i] + phi[i][j]\n",
        "    for k in range(2,Nsink):\n",
        "        if Flowin[k] != Flowout[k]:\n",
        "            print(\"*** ERROR *** Flow not conserved at node\", k)\n",
        "    if Flowout[1] != Flowin[Nsink]:\n",
        "        print(\"*** ERROR *** Flow not conserved at source or sink\")\n",
        "    Totalcost = 0\n",
        "    for arc in Gin:\n",
        "        i,j=arc\n",
        "        phi_ij = phi[i][j]\n",
        "        Totalcost = Totalcost + l[i][j]*phi_ij\n",
        "        print(arc,\" has flow \",phi_ij)\n",
        "    print(\"Total Cost is \", Totalcost)\n"
      ]
    },
    {
      "cell_type": "code",
      "execution_count": 4,
      "metadata": {
        "id": "wpTpHHi9CBFu"
      },
      "outputs": [],
      "source": [
        "def Links (Gin):\n",
        "    global Nsink,Out\n",
        "    Out=[set() for k in range(Nsink)] # labelled 0..Nsink-1\n",
        "    for arc in Gin:\n",
        "        i,j = arc\n",
        "        Out[i - 1] = Out[i - 1] | set([j])"
      ]
    },
    {
      "cell_type": "code",
      "execution_count": 5,
      "metadata": {
        "id": "hKnY_Sk3CBFu"
      },
      "outputs": [],
      "source": [
        "def SourceSink(Gin):\n",
        "# finds all paths SinkPaths from source 1 to sink Nsink of network G\n",
        "    global Nsink,SinkPaths\n",
        "    Links(Gin)\n",
        "    Paths = set() # current paths from source stored as set of tuples\n",
        "    SinkPaths = set() # paths from source to sink Nsink stored as set of tuples\n",
        "    path = 1 # source node label\n",
        "    for node in Out[0]:# need out edge from node 1\n",
        "        pathn = (path,node)\n",
        "        if node == Nsink:\n",
        "            SinkPaths = SinkPaths | set([pathn])\n",
        "        else:\n",
        "            Paths = Paths | set([pathn])\n",
        "    Npaths = len(Paths)\n",
        "    while (0 < Npaths):\n",
        "        NewPaths = set()\n",
        "        for oldpath in Paths:\n",
        "            nold = len(oldpath)\n",
        "            m = oldpath[-1] # last node in tuple oldpath\n",
        "            for mout in Out[m-1]:\n",
        "                if not mout in oldpath:\n",
        "                    if mout == Nsink:\n",
        "                        SinkPaths = SinkPaths | set([oldpath+tuple([Nsink])])\n",
        "                    else:\n",
        "                        NewPaths = NewPaths | set([oldpath+tuple([mout])])\n",
        "        Paths = NewPaths\n",
        "        Npaths = len(Paths)\n",
        "    print(\"Paths from source to sink: \",SinkPaths)"
      ]
    },
    {
      "cell_type": "code",
      "execution_count": 6,
      "metadata": {
        "id": "cNFxQu-2CBFu"
      },
      "outputs": [],
      "source": [
        "def IncremNet(Gin):\n",
        "# procedure to create incremental network Gp from given flow network G\n",
        "    global Gp,Nsink,phi,c,l,cp,lp,ArcSign\n",
        "# define lists for ArcSign, cp and lp  (indexed by 0..Nsink-1)\n",
        "    cp=[[0 for i in range(Nsink+1)] for j in range(Nsink+1)]\n",
        "    lp=[[0 for i in range(Nsink+1)] for j in range(Nsink+1)]\n",
        "    ArcSign=[[0 for i in range(Nsink+1)] for j in range(Nsink+1)]\n",
        "    Gp=set([])\n",
        "    for arc in Gin:\n",
        "        i,j=arc\n",
        "        pij = phi[i][j]; pji = phi[j][i]; cij = c[i][j]; lij = l[i][j]\n",
        "        if (pij < cij and (pji == 0 or not (j,i) in Gin)): # ij arc\n",
        "            #Gp edges, capacitites and costs added\n",
        "            cpij = cij - pij; cp[i][j] = cpij; lpij = lij; lp[i][j] =lpij\n",
        "            ArcSign[i][j] = 1\n",
        "            Gp=Gp | {(i,j)}\n",
        "        if pij>0: # ji arc\n",
        "            cpji = pij; cp[j][i] = cpji; lpji=-lij; lp[j][i] = lpji\n",
        "            ArcSign[j][i] = -1\n",
        "            Gp=Gp | {(j,i)}\n",
        "    print(\"Incremental Network:\",Gp)"
      ]
    },
    {
      "cell_type": "code",
      "execution_count": 7,
      "metadata": {
        "id": "Wp1Dutm6CBFu"
      },
      "outputs": [],
      "source": [
        "def Newflows(Gin):\n",
        "# A procedure to modify original flows on Gin along SinkPaths of Gp with minimal cost\n",
        "    global Gp,phi,c,l,cp,lp,ArcSign,Out\n",
        "    SourceSink(Gp)\n",
        "    if SinkPaths == set():\n",
        "        Links(Gin)\n",
        "        Flow = 0\n",
        "        for node in Out[0]:\n",
        "            Flow = Flow + phi[1][node]\n",
        "        Cost=0\n",
        "        for arc in Gin:\n",
        "            i,j=arc\n",
        "            Cost=Cost+l[i][j]*phi[i][j]\n",
        "        print(\"Maximal flow found:\", Flow, \" with minimal cost \", Cost)\n",
        "    else:\n",
        "        for k in range(len(SinkPaths)):\n",
        "            cost = 0\n",
        "            epset = set()\n",
        "            path=list(SinkPaths)[k]\n",
        "            for n in range(0, len(path)-1):\n",
        "                i = path[n]; j = path[n+1];  epset = epset | set([cp[i][j]]); cost = lp[i][j] + cost\n",
        "            eps = min(tuple(epset))\n",
        "            if k == 0: # first path\n",
        "                mincost = cost; bestpath = path; besteps = eps\n",
        "            elif cost < mincost:\n",
        "                mincost = cost; bestpath = path; besteps = eps\n",
        "        print(\"A best path in Gp is \", bestpath, \" of minimum cost \", mincost)\n",
        "        print(\"The min capacity on this path is epsilon \", besteps)\n",
        "        print(\"The min cost is \", mincost)\n",
        "        for k in range(0, len(bestpath) - 1):\n",
        "            i = bestpath[k]; j = bestpath[k+1]\n",
        "            if ArcSign[i][j] == 1:\n",
        "                phinewij = phi[i][j] + besteps; phi[i][j]=phinewij\n",
        "            else:\n",
        "                phinewji=phi[j][i] = phi[j][i] - besteps; phi[j][i]=phinewji\n",
        "    #print(\"Flow=\",Flow)"
      ]
    },
    {
      "cell_type": "code",
      "execution_count": 8,
      "metadata": {
        "id": "aIcSqgdtCBFu"
      },
      "outputs": [],
      "source": [
        "def Iterate(Gin):\n",
        "    IncremNet(Gin)\n",
        "    Newflows(Gin)\n",
        "    for arc in Gin:\n",
        "        i,j=arc\n",
        "        print((i,j),\" flow = \", phi[i][j])"
      ]
    },
    {
      "cell_type": "code",
      "execution_count": null,
      "metadata": {
        "id": "yVv6r_xECBFu"
      },
      "outputs": [],
      "source": []
    },
    {
      "cell_type": "code",
      "execution_count": null,
      "metadata": {
        "id": "-muuGnRCCBFu"
      },
      "outputs": [],
      "source": []
    },
    {
      "cell_type": "markdown",
      "metadata": {
        "id": "HbVOJj9bCBFv"
      },
      "source": [
        "# Example 1. The first example discussed in lectures.\n",
        "## The capacity $c(i,j)$ and flow $\\phi(i,j)$ are shown on each arc $(i,j)$\n",
        "\n",
        "![Network](https://github.com/mcgettrick/mp305/blob/main/Lab1_1.jpg?raw=1)\n"
      ]
    },
    {
      "cell_type": "markdown",
      "metadata": {
        "id": "NnPH2IIvCBFv"
      },
      "source": [
        "### \\* Find the incremental network and capacities at each iteration of the Ford Fulkerson algorithm.\n",
        "### \\* In the last iteration when the maximal flow is found,  identify which arcs are normal and which are inverted in the incremental network.\n",
        "### \\* Hence find the minimal capacity cut of this network flow model."
      ]
    },
    {
      "cell_type": "code",
      "execution_count": null,
      "metadata": {
        "id": "EeqgomsBCBFv"
      },
      "outputs": [],
      "source": [
        "G={(1,2),(1,3),(2,3),(2,4),(2,5),(3,5),(4,6),(5,4),(5,6)}"
      ]
    },
    {
      "cell_type": "code",
      "execution_count": null,
      "metadata": {
        "id": "RZ0CIs9aCBFv"
      },
      "outputs": [],
      "source": [
        "Initialise (G)"
      ]
    },
    {
      "cell_type": "code",
      "execution_count": null,
      "metadata": {
        "id": "F6VNGHSTCBFv"
      },
      "outputs": [],
      "source": [
        "Flows(G)"
      ]
    },
    {
      "cell_type": "markdown",
      "metadata": {
        "id": "cyc0G5ieCBFv"
      },
      "source": [
        "## Define Capacities"
      ]
    },
    {
      "cell_type": "code",
      "execution_count": null,
      "metadata": {
        "id": "FUA69l42CBFv"
      },
      "outputs": [],
      "source": [
        "c[1][2] = 4; c[1][3] = 5; c[2][3] = 2\n",
        "c[2][4] = 1; c[2][5] = 4; c[3][5] = 3\n",
        "c[4][6] = 2; c[5][4] = 2; c[5][6] = 6"
      ]
    },
    {
      "cell_type": "markdown",
      "metadata": {
        "id": "YK8fMS09CBFv"
      },
      "source": [
        "## Define Flows"
      ]
    },
    {
      "cell_type": "code",
      "execution_count": null,
      "metadata": {
        "id": "pv0Azt-JCBFv"
      },
      "outputs": [],
      "source": [
        "phi[1][2]=4; phi[1][3]=1; phi[2][3]=2; phi[2][4]=1; phi[2][5]=1\n",
        "phi[3][5]=3; phi[4][6]=2; phi[5][4]=1; phi[5][6]=3"
      ]
    },
    {
      "cell_type": "code",
      "execution_count": null,
      "metadata": {
        "id": "ILKQixWfCBFv"
      },
      "outputs": [],
      "source": [
        "Flows(G)"
      ]
    },
    {
      "cell_type": "markdown",
      "metadata": {
        "id": "tP8IWq40CBFv"
      },
      "source": [
        "## Use `Iterate` to run one iteration of the Ford Fulkerson Algorithm"
      ]
    },
    {
      "cell_type": "code",
      "execution_count": null,
      "metadata": {
        "id": "4AdWgjOmCBFv"
      },
      "outputs": [],
      "source": [
        "Iterate(G)"
      ]
    },
    {
      "cell_type": "code",
      "execution_count": null,
      "metadata": {
        "id": "bgLNaVbuCBFv"
      },
      "outputs": [],
      "source": [
        "Iterate(G)"
      ]
    },
    {
      "cell_type": "code",
      "execution_count": null,
      "metadata": {
        "id": "AnRP0vk-CBFv"
      },
      "outputs": [],
      "source": []
    },
    {
      "cell_type": "code",
      "execution_count": null,
      "metadata": {
        "id": "0J8c7mTQCBFv"
      },
      "outputs": [],
      "source": []
    },
    {
      "cell_type": "markdown",
      "metadata": {
        "id": "taTNMA_tCBFv"
      },
      "source": [
        "## In the following two problems, first define the network and  its capacities following the template of problem 1 and then run the `Python`|code.\n",
        "\n",
        "\n"
      ]
    },
    {
      "cell_type": "markdown",
      "metadata": {
        "id": "mAnDHo4UCBFv"
      },
      "source": [
        "## Q.2 (*) . Find the maximal flow through the following network with the given capacities:\n",
        "![Network](https://github.com/mcgettrick/mp305/blob/main/Lab1_2.jpg?raw=1)"
      ]
    },
    {
      "cell_type": "code",
      "execution_count": 9,
      "metadata": {
        "id": "BTyQO7fmCBFv"
      },
      "outputs": [],
      "source": [
        "G2 = {(1,2),(2,5),(1,3),(3,4),(2,3),(3,2),(4,2),(4,5)}"
      ]
    },
    {
      "cell_type": "code",
      "source": [
        "Initialise (G2)"
      ],
      "metadata": {
        "id": "HicIUoDjC8HJ",
        "outputId": "a4cad03f-56dc-413c-b245-7d7949d7c9eb",
        "colab": {
          "base_uri": "https://localhost:8080/"
        }
      },
      "execution_count": 10,
      "outputs": [
        {
          "output_type": "stream",
          "name": "stdout",
          "text": [
            "All values of c,phi and l initialised to zero\n"
          ]
        }
      ]
    },
    {
      "cell_type": "code",
      "source": [
        "Flows(G2)"
      ],
      "metadata": {
        "id": "IQv6MgWfDDbs",
        "outputId": "a5db468e-8734-47a2-81e2-ab40ba7079df",
        "colab": {
          "base_uri": "https://localhost:8080/"
        }
      },
      "execution_count": 11,
      "outputs": [
        {
          "output_type": "stream",
          "name": "stdout",
          "text": [
            "(1, 2)  has flow  0\n",
            "(3, 4)  has flow  0\n",
            "(4, 2)  has flow  0\n",
            "(2, 3)  has flow  0\n",
            "(4, 5)  has flow  0\n",
            "(3, 2)  has flow  0\n",
            "(2, 5)  has flow  0\n",
            "(1, 3)  has flow  0\n",
            "Total Cost is  0\n"
          ]
        }
      ]
    },
    {
      "cell_type": "code",
      "source": [
        "c[1][2]=2;c[2][5]=3;c[1][3]=4;c[3][4]=2;c[2][3]=1;c[3][2]=4;c[4][2]=2;c[4][5]=3\n"
      ],
      "metadata": {
        "id": "zWSe_LzIDH7Y"
      },
      "execution_count": 13,
      "outputs": []
    },
    {
      "cell_type": "code",
      "source": [
        "Iterate(G2)"
      ],
      "metadata": {
        "id": "hOR03XI-EBCY",
        "outputId": "41aed2dc-6804-483e-8b7d-36638dce22c6",
        "colab": {
          "base_uri": "https://localhost:8080/"
        }
      },
      "execution_count": 14,
      "outputs": [
        {
          "output_type": "stream",
          "name": "stdout",
          "text": [
            "Incremental Network: {(2, 3), (4, 5), (1, 2), (3, 4), (3, 2), (2, 5), (1, 3), (4, 2)}\n",
            "Paths from source to sink:  {(1, 3, 4, 2, 5), (1, 3, 4, 5), (1, 2, 5), (1, 2, 3, 4, 5), (1, 3, 2, 5)}\n",
            "A best path in Gp is  (1, 3, 4, 2, 5)  of minimum cost  0\n",
            "The min capacity on this path is epsilon  2\n",
            "The min cost is  0\n",
            "(1, 2)  flow =  0\n",
            "(3, 4)  flow =  2\n",
            "(4, 2)  flow =  2\n",
            "(2, 3)  flow =  0\n",
            "(4, 5)  flow =  0\n",
            "(3, 2)  flow =  0\n",
            "(2, 5)  flow =  2\n",
            "(1, 3)  flow =  2\n"
          ]
        }
      ]
    },
    {
      "cell_type": "code",
      "source": [
        "Iterate(G2)"
      ],
      "metadata": {
        "id": "39n6rzhdEF8c",
        "outputId": "681705c6-52d7-4c79-bc76-858a4ff945b0",
        "colab": {
          "base_uri": "https://localhost:8080/"
        }
      },
      "execution_count": 15,
      "outputs": [
        {
          "output_type": "stream",
          "name": "stdout",
          "text": [
            "Incremental Network: {(2, 4), (1, 2), (4, 3), (3, 1), (2, 3), (4, 5), (3, 2), (2, 5), (1, 3), (5, 2)}\n",
            "Paths from source to sink:  {(1, 3, 2, 5), (1, 3, 2, 4, 5), (1, 2, 4, 5), (1, 2, 5)}\n",
            "A best path in Gp is  (1, 3, 2, 5)  of minimum cost  0\n",
            "The min capacity on this path is epsilon  1\n",
            "The min cost is  0\n",
            "(1, 2)  flow =  0\n",
            "(3, 4)  flow =  2\n",
            "(4, 2)  flow =  2\n",
            "(2, 3)  flow =  0\n",
            "(4, 5)  flow =  0\n",
            "(3, 2)  flow =  1\n",
            "(2, 5)  flow =  3\n",
            "(1, 3)  flow =  3\n"
          ]
        }
      ]
    },
    {
      "cell_type": "code",
      "source": [
        "Iterate(G2)"
      ],
      "metadata": {
        "id": "Y5sqv704EKOH",
        "outputId": "80067dde-b578-411c-d772-092af5209217",
        "colab": {
          "base_uri": "https://localhost:8080/"
        }
      },
      "execution_count": 16,
      "outputs": [
        {
          "output_type": "stream",
          "name": "stdout",
          "text": [
            "Incremental Network: {(2, 4), (1, 2), (4, 3), (3, 1), (2, 3), (4, 5), (3, 2), (1, 3), (5, 2)}\n",
            "Paths from source to sink:  {(1, 3, 2, 4, 5), (1, 2, 4, 5)}\n",
            "A best path in Gp is  (1, 3, 2, 4, 5)  of minimum cost  0\n",
            "The min capacity on this path is epsilon  1\n",
            "The min cost is  0\n",
            "(1, 2)  flow =  0\n",
            "(3, 4)  flow =  2\n",
            "(4, 2)  flow =  1\n",
            "(2, 3)  flow =  0\n",
            "(4, 5)  flow =  1\n",
            "(3, 2)  flow =  2\n",
            "(2, 5)  flow =  3\n",
            "(1, 3)  flow =  4\n"
          ]
        }
      ]
    },
    {
      "cell_type": "code",
      "source": [
        "Iterate(G2)"
      ],
      "metadata": {
        "id": "Pev2ruF5ELaL",
        "outputId": "930d03b3-84c3-4bf2-91be-d607c6eb18fa",
        "colab": {
          "base_uri": "https://localhost:8080/"
        }
      },
      "execution_count": 17,
      "outputs": [
        {
          "output_type": "stream",
          "name": "stdout",
          "text": [
            "Incremental Network: {(2, 4), (1, 2), (4, 3), (3, 1), (5, 4), (4, 2), (2, 3), (4, 5), (3, 2), (5, 2)}\n",
            "Paths from source to sink:  {(1, 2, 4, 5)}\n",
            "A best path in Gp is  (1, 2, 4, 5)  of minimum cost  0\n",
            "The min capacity on this path is epsilon  1\n",
            "The min cost is  0\n",
            "(1, 2)  flow =  1\n",
            "(3, 4)  flow =  2\n",
            "(4, 2)  flow =  0\n",
            "(2, 3)  flow =  0\n",
            "(4, 5)  flow =  2\n",
            "(3, 2)  flow =  2\n",
            "(2, 5)  flow =  3\n",
            "(1, 3)  flow =  4\n"
          ]
        }
      ]
    },
    {
      "cell_type": "code",
      "source": [
        "Iterate(G2)"
      ],
      "metadata": {
        "id": "8Vi5qt88EMd2",
        "outputId": "6c8b8ddf-9098-4ba7-f20a-bb5639d9a87d",
        "colab": {
          "base_uri": "https://localhost:8080/"
        }
      },
      "execution_count": 18,
      "outputs": [
        {
          "output_type": "stream",
          "name": "stdout",
          "text": [
            "Incremental Network: {(1, 2), (2, 1), (4, 3), (3, 1), (5, 4), (4, 2), (2, 3), (4, 5), (3, 2), (5, 2)}\n",
            "Paths from source to sink:  set()\n",
            "Maximal flow found: 5  with minimal cost  0\n",
            "(1, 2)  flow =  1\n",
            "(3, 4)  flow =  2\n",
            "(4, 2)  flow =  0\n",
            "(2, 3)  flow =  0\n",
            "(4, 5)  flow =  2\n",
            "(3, 2)  flow =  2\n",
            "(2, 5)  flow =  3\n",
            "(1, 3)  flow =  4\n"
          ]
        }
      ]
    },
    {
      "cell_type": "markdown",
      "metadata": {
        "id": "K5AkP26WCBFv"
      },
      "source": [
        "##  Define the network `G` and the capacities `c[i][j]` for the given data and follow the same sequence of steps as for Q.1 with zero initial flow.\n",
        "### \\* Set the initial flow to zero at each arc and find the incremental network and capacities at each iteration of the Ford-Fulkerson algorithm.\n",
        "### \\* In the last iteration when the maximal flow is found,  identify which arcs are normal and which are inverted in the incremental network.\n",
        "### \\* Hence find the minimal capacity cut of this network flow model."
      ]
    },
    {
      "cell_type": "code",
      "execution_count": null,
      "metadata": {
        "id": "Us0UbvBBCBFv"
      },
      "outputs": [],
      "source": []
    },
    {
      "cell_type": "code",
      "execution_count": null,
      "metadata": {
        "id": "0gBW54V_CBFw"
      },
      "outputs": [],
      "source": []
    },
    {
      "cell_type": "markdown",
      "metadata": {
        "id": "oK_zqsAJCBFw"
      },
      "source": [
        "## Q.3 (*) A road network is shown below with the capacity on each road indicated. Notice that many roads are two way.\n",
        "![Network](https://github.com/mcgettrick/mp305/blob/main/Lab1_3.jpg?raw=1)\n",
        "### \\* Find the maximal flow through the network from `A` to `B`.\n",
        "### \\* Compare this to maximal flow from `B`  to `A` ."
      ]
    },
    {
      "cell_type": "code",
      "execution_count": 19,
      "metadata": {
        "id": "ep-BQ0n9CBFw"
      },
      "outputs": [],
      "source": [
        "G3={(1,2),(2,1),(2,3),(3,8),(8,3),(1,6),(6,1),(4,2),(6,4),(4,6),(4,5),(5,4),(6,7),(7,5),(3,5),(7,8),(8,7)}"
      ]
    },
    {
      "cell_type": "code",
      "execution_count": 20,
      "metadata": {
        "id": "W-XRRHVqCBFw",
        "outputId": "a3f85331-44bd-4fba-c717-9eea9939c965",
        "colab": {
          "base_uri": "https://localhost:8080/"
        }
      },
      "outputs": [
        {
          "output_type": "stream",
          "name": "stdout",
          "text": [
            "All values of c,phi and l initialised to zero\n"
          ]
        }
      ],
      "source": [
        "Initialise(G3)"
      ]
    },
    {
      "cell_type": "code",
      "execution_count": 22,
      "metadata": {
        "id": "rv-5k7b_CBFw",
        "outputId": "8c5aab53-438e-4652-d2e5-e90b328b71bb",
        "colab": {
          "base_uri": "https://localhost:8080/"
        }
      },
      "outputs": [
        {
          "output_type": "stream",
          "name": "stdout",
          "text": [
            "(1, 2)  has flow  0\n",
            "(2, 1)  has flow  0\n",
            "(6, 1)  has flow  0\n",
            "(5, 4)  has flow  0\n",
            "(4, 6)  has flow  0\n",
            "(6, 4)  has flow  0\n",
            "(6, 7)  has flow  0\n",
            "(8, 3)  has flow  0\n",
            "(1, 6)  has flow  0\n",
            "(3, 5)  has flow  0\n",
            "(3, 8)  has flow  0\n",
            "(8, 7)  has flow  0\n",
            "(4, 2)  has flow  0\n",
            "(2, 3)  has flow  0\n",
            "(4, 5)  has flow  0\n",
            "(7, 5)  has flow  0\n",
            "(7, 8)  has flow  0\n",
            "Total Cost is  0\n"
          ]
        }
      ],
      "source": [
        "Flows(G3)"
      ]
    },
    {
      "cell_type": "code",
      "source": [
        "c[1][2]=5;c[2][1]=5;c[2][3]=3;c[3][8]=6;c[8][3]=6;c[1][6]=4;c[6][1]=4;c[4][2]=4;c[6][4]=5;c[4][6]=5;c[4][5]=5;c[5][4]=5;c[6][7]=3;c[7][5]=4;c[3][5]=2;c[7][8]=4;c[8][7]=4"
      ],
      "metadata": {
        "id": "qhx7n68CHj1n"
      },
      "execution_count": 23,
      "outputs": []
    },
    {
      "cell_type": "code",
      "source": [
        "Iterate(G3)"
      ],
      "metadata": {
        "id": "ckYeAjbwIrAh",
        "outputId": "27aa4381-9818-48c4-8006-6ed4a4f22c80",
        "colab": {
          "base_uri": "https://localhost:8080/"
        }
      },
      "execution_count": 24,
      "outputs": [
        {
          "output_type": "stream",
          "name": "stdout",
          "text": [
            "Incremental Network: {(1, 2), (2, 1), (6, 1), (5, 4), (4, 6), (6, 4), (6, 7), (8, 3), (1, 6), (3, 5), (3, 8), (8, 7), (4, 2), (2, 3), (4, 5), (7, 5), (7, 8)}\n",
            "Paths from source to sink:  {(1, 6, 4, 2, 3, 8), (1, 2, 3, 5, 4, 6, 7, 8), (1, 6, 7, 5, 4, 2, 3, 8), (1, 2, 3, 8), (1, 6, 7, 8)}\n",
            "A best path in Gp is  (1, 6, 4, 2, 3, 8)  of minimum cost  0\n",
            "The min capacity on this path is epsilon  3\n",
            "The min cost is  0\n",
            "(1, 2)  flow =  0\n",
            "(2, 1)  flow =  0\n",
            "(6, 1)  flow =  0\n",
            "(5, 4)  flow =  0\n",
            "(4, 6)  flow =  0\n",
            "(6, 4)  flow =  3\n",
            "(6, 7)  flow =  0\n",
            "(8, 3)  flow =  0\n",
            "(1, 6)  flow =  3\n",
            "(3, 5)  flow =  0\n",
            "(3, 8)  flow =  3\n",
            "(8, 7)  flow =  0\n",
            "(4, 2)  flow =  3\n",
            "(2, 3)  flow =  3\n",
            "(4, 5)  flow =  0\n",
            "(7, 5)  flow =  0\n",
            "(7, 8)  flow =  0\n"
          ]
        }
      ]
    },
    {
      "cell_type": "code",
      "source": [
        "Iterate(G3)"
      ],
      "metadata": {
        "id": "gIXdpcsgIuQs",
        "outputId": "01c53c4e-cb56-471a-a0e5-b6746361673f",
        "colab": {
          "base_uri": "https://localhost:8080/"
        }
      },
      "execution_count": 25,
      "outputs": [
        {
          "output_type": "stream",
          "name": "stdout",
          "text": [
            "Incremental Network: {(2, 4), (1, 2), (2, 1), (6, 1), (5, 4), (4, 6), (6, 4), (6, 7), (8, 3), (1, 6), (3, 2), (3, 5), (3, 8), (8, 7), (4, 2), (4, 5), (7, 5), (7, 8)}\n",
            "Paths from source to sink:  {(1, 2, 4, 6, 7, 8), (1, 6, 7, 8)}\n",
            "A best path in Gp is  (1, 2, 4, 6, 7, 8)  of minimum cost  0\n",
            "The min capacity on this path is epsilon  3\n",
            "The min cost is  0\n",
            "(1, 2)  flow =  3\n",
            "(2, 1)  flow =  0\n",
            "(6, 1)  flow =  0\n",
            "(5, 4)  flow =  0\n",
            "(4, 6)  flow =  0\n",
            "(6, 4)  flow =  0\n",
            "(6, 7)  flow =  3\n",
            "(8, 3)  flow =  0\n",
            "(1, 6)  flow =  3\n",
            "(3, 5)  flow =  0\n",
            "(3, 8)  flow =  3\n",
            "(8, 7)  flow =  0\n",
            "(4, 2)  flow =  0\n",
            "(2, 3)  flow =  3\n",
            "(4, 5)  flow =  0\n",
            "(7, 5)  flow =  0\n",
            "(7, 8)  flow =  3\n"
          ]
        }
      ]
    },
    {
      "cell_type": "code",
      "source": [
        "Iterate(G3)"
      ],
      "metadata": {
        "id": "20GKKc6AIvae",
        "outputId": "66d5f3f7-c314-4344-e994-7575e4aca0f1",
        "colab": {
          "base_uri": "https://localhost:8080/"
        }
      },
      "execution_count": 26,
      "outputs": [
        {
          "output_type": "stream",
          "name": "stdout",
          "text": [
            "Incremental Network: {(1, 2), (2, 1), (6, 1), (5, 4), (4, 6), (6, 4), (8, 3), (7, 6), (1, 6), (3, 2), (3, 5), (3, 8), (8, 7), (4, 2), (4, 5), (7, 5), (7, 8)}\n",
            "Paths from source to sink:  set()\n",
            "Maximal flow found: 6  with minimal cost  0\n",
            "(1, 2)  flow =  3\n",
            "(2, 1)  flow =  0\n",
            "(6, 1)  flow =  0\n",
            "(5, 4)  flow =  0\n",
            "(4, 6)  flow =  0\n",
            "(6, 4)  flow =  0\n",
            "(6, 7)  flow =  3\n",
            "(8, 3)  flow =  0\n",
            "(1, 6)  flow =  3\n",
            "(3, 5)  flow =  0\n",
            "(3, 8)  flow =  3\n",
            "(8, 7)  flow =  0\n",
            "(4, 2)  flow =  0\n",
            "(2, 3)  flow =  3\n",
            "(4, 5)  flow =  0\n",
            "(7, 5)  flow =  0\n",
            "(7, 8)  flow =  3\n"
          ]
        }
      ]
    },
    {
      "cell_type": "code",
      "source": [
        "G4={(1,2),(2,1),(1,4),(4,1),(2,5),(4,5),(7,4),(5,6),(6,5),(3,2),(6,3),(6,7),(7,6),(8,7),(7,8),(3,8),(8,3)}"
      ],
      "metadata": {
        "id": "aR4ytpYtIwXV"
      },
      "execution_count": 27,
      "outputs": []
    },
    {
      "cell_type": "code",
      "source": [
        "Initialise(G4)"
      ],
      "metadata": {
        "id": "7wWU3QLDKWOe",
        "outputId": "5f0008fa-3739-4934-e93c-5b4a02c2b876",
        "colab": {
          "base_uri": "https://localhost:8080/"
        }
      },
      "execution_count": 28,
      "outputs": [
        {
          "output_type": "stream",
          "name": "stdout",
          "text": [
            "All values of c,phi and l initialised to zero\n"
          ]
        }
      ]
    },
    {
      "cell_type": "code",
      "source": [
        "Flows(G4)"
      ],
      "metadata": {
        "id": "g1qdC1JfKYbq",
        "outputId": "05b57c2c-49a3-47ad-f12c-e035a7959109",
        "colab": {
          "base_uri": "https://localhost:8080/"
        }
      },
      "execution_count": 29,
      "outputs": [
        {
          "output_type": "stream",
          "name": "stdout",
          "text": [
            "(1, 2)  has flow  0\n",
            "(2, 1)  has flow  0\n",
            "(6, 7)  has flow  0\n",
            "(8, 3)  has flow  0\n",
            "(7, 6)  has flow  0\n",
            "(3, 2)  has flow  0\n",
            "(2, 5)  has flow  0\n",
            "(4, 1)  has flow  0\n",
            "(7, 4)  has flow  0\n",
            "(3, 8)  has flow  0\n",
            "(6, 5)  has flow  0\n",
            "(8, 7)  has flow  0\n",
            "(1, 4)  has flow  0\n",
            "(4, 5)  has flow  0\n",
            "(5, 6)  has flow  0\n",
            "(6, 3)  has flow  0\n",
            "(7, 8)  has flow  0\n",
            "Total Cost is  0\n"
          ]
        }
      ]
    },
    {
      "cell_type": "code",
      "source": [
        "c[1][2]=6;c[2][1]=6;c[1][4]=4;c[4][1]=4;c[2][5]=2;c[4][5]=5;c[7][4]=3;c[5][6]=5;c[6][5]=5;c[3][2]=3;c[6][3]=4;c[6][7]=5;c[7][6]=6;c[8][7]=4;c[7][8]=4;c[3][8]=5;c[8][3]=5"
      ],
      "metadata": {
        "id": "qhJn5mN6KaEJ"
      },
      "execution_count": 30,
      "outputs": []
    },
    {
      "cell_type": "code",
      "source": [
        "Iterate(G4)"
      ],
      "metadata": {
        "id": "CgNmuvF1Lo0r",
        "outputId": "005c4941-e21e-4c6a-840a-268c1846dd83",
        "colab": {
          "base_uri": "https://localhost:8080/"
        }
      },
      "execution_count": 31,
      "outputs": [
        {
          "output_type": "stream",
          "name": "stdout",
          "text": [
            "Incremental Network: {(1, 2), (2, 1), (6, 7), (8, 3), (7, 6), (3, 2), (2, 5), (4, 1), (7, 4), (3, 8), (6, 5), (8, 7), (1, 4), (4, 5), (5, 6), (6, 3), (7, 8)}\n",
            "Paths from source to sink:  {(1, 4, 5, 6, 7, 8), (1, 2, 5, 6, 7, 8), (1, 4, 5, 6, 3, 8), (1, 2, 5, 6, 3, 8)}\n",
            "A best path in Gp is  (1, 4, 5, 6, 7, 8)  of minimum cost  0\n",
            "The min capacity on this path is epsilon  4\n",
            "The min cost is  0\n",
            "(1, 2)  flow =  0\n",
            "(2, 1)  flow =  0\n",
            "(6, 7)  flow =  4\n",
            "(8, 3)  flow =  0\n",
            "(7, 6)  flow =  0\n",
            "(3, 2)  flow =  0\n",
            "(2, 5)  flow =  0\n",
            "(4, 1)  flow =  0\n",
            "(7, 4)  flow =  0\n",
            "(3, 8)  flow =  0\n",
            "(6, 5)  flow =  0\n",
            "(8, 7)  flow =  0\n",
            "(1, 4)  flow =  4\n",
            "(4, 5)  flow =  4\n",
            "(5, 6)  flow =  4\n",
            "(6, 3)  flow =  0\n",
            "(7, 8)  flow =  4\n"
          ]
        }
      ]
    },
    {
      "cell_type": "code",
      "source": [
        "Iterate(G4)"
      ],
      "metadata": {
        "id": "5oR-ZmNPLrVJ",
        "outputId": "4da396d1-4d6f-433d-d466-959ef3af40f9",
        "colab": {
          "base_uri": "https://localhost:8080/"
        }
      },
      "execution_count": 32,
      "outputs": [
        {
          "output_type": "stream",
          "name": "stdout",
          "text": [
            "Incremental Network: {(7, 4), (3, 8), (1, 2), (2, 1), (6, 5), (8, 7), (5, 4), (6, 7), (8, 3), (7, 6), (4, 5), (5, 6), (6, 3), (3, 2), (2, 5), (4, 1)}\n",
            "Paths from source to sink:  {(1, 2, 5, 6, 3, 8)}\n",
            "A best path in Gp is  (1, 2, 5, 6, 3, 8)  of minimum cost  0\n",
            "The min capacity on this path is epsilon  1\n",
            "The min cost is  0\n",
            "(1, 2)  flow =  1\n",
            "(2, 1)  flow =  0\n",
            "(6, 7)  flow =  4\n",
            "(8, 3)  flow =  0\n",
            "(7, 6)  flow =  0\n",
            "(3, 2)  flow =  0\n",
            "(2, 5)  flow =  1\n",
            "(4, 1)  flow =  0\n",
            "(7, 4)  flow =  0\n",
            "(3, 8)  flow =  1\n",
            "(6, 5)  flow =  0\n",
            "(8, 7)  flow =  0\n",
            "(1, 4)  flow =  4\n",
            "(4, 5)  flow =  4\n",
            "(5, 6)  flow =  5\n",
            "(6, 3)  flow =  1\n",
            "(7, 8)  flow =  4\n"
          ]
        }
      ]
    },
    {
      "cell_type": "code",
      "source": [
        "Iterate(G4)"
      ],
      "metadata": {
        "id": "9alr28NtLsEE",
        "outputId": "aaa61897-0cb8-4ce0-fdef-d94e473a3d20",
        "colab": {
          "base_uri": "https://localhost:8080/"
        }
      },
      "execution_count": 33,
      "outputs": [
        {
          "output_type": "stream",
          "name": "stdout",
          "text": [
            "Incremental Network: {(1, 2), (2, 1), (5, 4), (6, 7), (8, 3), (7, 6), (3, 2), (2, 5), (4, 1), (5, 2), (7, 4), (3, 8), (6, 5), (8, 7), (4, 5), (3, 6), (6, 3)}\n",
            "Paths from source to sink:  set()\n",
            "Maximal flow found: 5  with minimal cost  0\n",
            "(1, 2)  flow =  1\n",
            "(2, 1)  flow =  0\n",
            "(6, 7)  flow =  4\n",
            "(8, 3)  flow =  0\n",
            "(7, 6)  flow =  0\n",
            "(3, 2)  flow =  0\n",
            "(2, 5)  flow =  1\n",
            "(4, 1)  flow =  0\n",
            "(7, 4)  flow =  0\n",
            "(3, 8)  flow =  1\n",
            "(6, 5)  flow =  0\n",
            "(8, 7)  flow =  0\n",
            "(1, 4)  flow =  4\n",
            "(4, 5)  flow =  4\n",
            "(5, 6)  flow =  5\n",
            "(6, 3)  flow =  1\n",
            "(7, 8)  flow =  4\n"
          ]
        }
      ]
    },
    {
      "cell_type": "code",
      "source": [],
      "metadata": {
        "id": "HaZEoofaLswP"
      },
      "execution_count": null,
      "outputs": []
    }
  ],
  "metadata": {
    "kernelspec": {
      "display_name": "Python 3 (ipykernel)",
      "language": "python",
      "name": "python3"
    },
    "language_info": {
      "codemirror_mode": {
        "name": "ipython",
        "version": 3
      },
      "file_extension": ".py",
      "mimetype": "text/x-python",
      "name": "python",
      "nbconvert_exporter": "python",
      "pygments_lexer": "ipython3",
      "version": "3.11.4"
    },
    "colab": {
      "provenance": []
    }
  },
  "nbformat": 4,
  "nbformat_minor": 0
}