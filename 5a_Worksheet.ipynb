{
  "nbformat": 4,
  "nbformat_minor": 0,
  "metadata": {
    "colab": {
      "provenance": [],
      "gpuType": "T4",
      "include_colab_link": true
    },
    "kernelspec": {
      "name": "python3",
      "display_name": "Python 3"
    },
    "language_info": {
      "name": "python"
    },
    "accelerator": "GPU"
  },
  "cells": [
    {
      "cell_type": "markdown",
      "metadata": {
        "id": "view-in-github",
        "colab_type": "text"
      },
      "source": [
        "<a href=\"https://colab.research.google.com/github/RiyaSatija48/Spark_Task01/blob/main/5a_Worksheet.ipynb\" target=\"_parent\"><img src=\"https://colab.research.google.com/assets/colab-badge.svg\" alt=\"Open In Colab\"/></a>"
      ]
    },
    {
      "cell_type": "markdown",
      "metadata": {
        "id": "l9a1R3CEAFVU"
      },
      "source": [
        "# Spelling correction\n",
        "\n",
        "In this exercise we are going to build a simple model for spelling correction using a bigram language model. We will start by using the Brown corpus"
      ]
    },
    {
      "cell_type": "code",
      "metadata": {
        "colab": {
          "base_uri": "https://localhost:8080/"
        },
        "id": "wNl55RpkAben",
        "outputId": "3710fb0f-6424-4637-b591-c9c9ca9e09d3"
      },
      "source": [
        "import nltk\n",
        "nltk.download(\"brown\")\n",
        "from nltk.corpus import brown"
      ],
      "execution_count": null,
      "outputs": [
        {
          "output_type": "stream",
          "name": "stderr",
          "text": [
            "[nltk_data] Downloading package brown to /root/nltk_data...\n",
            "[nltk_data]   Unzipping corpora/brown.zip.\n"
          ]
        }
      ]
    },
    {
      "cell_type": "markdown",
      "metadata": {
        "id": "rt4vlQtTAiDS"
      },
      "source": [
        "Now let's build a dictionary of all the words in Brown and all the bigrams using NLTK.\n"
      ]
    },
    {
      "cell_type": "code",
      "metadata": {
        "id": "iclN86klAtGt"
      },
      "source": [
        "from nltk import FreqDist, bigrams, ConditionalFreqDist\n",
        "\n",
        "words = FreqDist(w.lower() for w in brown.words())\n",
        "words_2g = ConditionalFreqDist(bigrams(w.lower() for w in brown.words()))"
      ],
      "execution_count": null,
      "outputs": []
    },
    {
      "cell_type": "code",
      "source": [
        "words[\"the\"] / words.total()"
      ],
      "metadata": {
        "colab": {
          "base_uri": "https://localhost:8080/"
        },
        "id": "f-fCMbtx5mwn",
        "outputId": "17d8569b-7087-495c-e65a-8992497cebf7"
      },
      "execution_count": null,
      "outputs": [
        {
          "output_type": "execute_result",
          "data": {
            "text/plain": [
              "0.06025790739171472"
            ]
          },
          "metadata": {},
          "execution_count": 6
        }
      ]
    },
    {
      "cell_type": "markdown",
      "metadata": {
        "id": "-J3Ty3FNBs-1"
      },
      "source": [
        "How do you calculate the conditional probability $P(\\text{book}|\\text{the})$?"
      ]
    },
    {
      "cell_type": "code",
      "metadata": {
        "id": "uz_QIBKjB1wU"
      },
      "source": [
        "def cond_prob(prev_word, word):\n",
        "  # Write this function\n",
        "  pass\n",
        "\n",
        "assert cond_prob(\"the\", \"book\") == 0.0007717482957225136"
      ],
      "execution_count": null,
      "outputs": []
    },
    {
      "cell_type": "markdown",
      "metadata": {
        "id": "VaCXGuidCMVJ"
      },
      "source": [
        "Now let's write a simple function that finds all the words at minimal edit distance for a misspelled word."
      ]
    },
    {
      "cell_type": "code",
      "metadata": {
        "id": "6eHVPj1zCjkN"
      },
      "source": [
        "from nltk.metrics.distance import edit_distance\n",
        "\n",
        "def candidates(word):\n",
        "  # Write this function\n",
        "  pass\n",
        "\n",
        "assert set(candidates(\"thjs\")) == set([\"this\",\"thus\"])"
      ],
      "execution_count": null,
      "outputs": []
    },
    {
      "cell_type": "markdown",
      "metadata": {
        "id": "uRPW0pv2Dxq0"
      },
      "source": [
        "Using a bigram language model how do we choose a the best word based on the word either side?\n",
        "\n",
        "Use this to write a function that returns the most likely spelling correction of `word`"
      ]
    },
    {
      "cell_type": "code",
      "metadata": {
        "id": "7NHMqe9fEM5w"
      },
      "source": [
        "def correct(prev_word, word, next_word):\n",
        "  # Write this function\n",
        "  pass\n",
        "\n",
        "assert correct(\"is\",\"thjs\",\"satisfied\") == \"this\""
      ],
      "execution_count": null,
      "outputs": []
    }
  ]
}